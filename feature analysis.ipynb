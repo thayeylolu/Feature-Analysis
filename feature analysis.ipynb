{
 "cells": [
  {
   "cell_type": "markdown",
   "id": "fda1f2a5-ebca-4fea-b948-7619c2e48233",
   "metadata": {},
   "source": [
    "## Feature Analysis: Interpretability of ML models\n",
    "March 2022"
   ]
  },
  {
   "cell_type": "markdown",
   "id": "4b0d2b62-42ae-4a26-b373-47888481487d",
   "metadata": {},
   "source": [
    "### Objective \n",
    "----\n",
    "This report aims to interpret and analysis the importance of features of the [pumpkin seed data set](https://www.kaggle.com/mkoklu42/pumpkin-seeds-dataset?select=Pumpkin_Seeds_Dataset.xlsx) across three Machine Learning Algorithms: \n",
    "\n",
    "- Logistic Regression\n",
    "- Random Forest\n",
    "- Light GM "
   ]
  },
  {
   "cell_type": "markdown",
   "id": "9758c586-37ba-4660-9958-8dfcc26d963e",
   "metadata": {},
   "source": [
    "**Import Libraries**"
   ]
  },
  {
   "cell_type": "code",
   "execution_count": 1,
   "id": "6fd76142-169a-4fb4-bfc2-2a449f2d87be",
   "metadata": {},
   "outputs": [],
   "source": [
    "import eli5\n",
    "import matplotlib.pyplot as plt\n",
    "import numpy as np\n",
    "import pandas as pd\n",
    "import shap\n",
    "import string\n",
    "import sys\n",
    "import os\n",
    "import warnings\n",
    "\n",
    "\n",
    "from lightgbm.sklearn import LGBMClassifier\n",
    "#from plotting_functions import *\n",
    "from sklearn import datasets\n",
    "from sklearn.compose import ColumnTransformer, make_column_transformer\n",
    "from sklearn.dummy import DummyClassifier\n",
    "from sklearn.ensemble import RandomForestClassifier\n",
    "from sklearn.impute import SimpleImputer\n",
    "from sklearn.pipeline import Pipeline, make_pipeline\n",
    "from sklearn.linear_model import LogisticRegression\n",
    "\n",
    "from sklearn.model_selection import (\n",
    "\n",
    "    cross_val_score,\n",
    "    cross_validate,\n",
    "    train_test_split,\n",
    ")\n",
    "\n",
    "from sklearn.preprocessing import (\n",
    "    StandardScaler,\n",
    ")\n",
    "from utils import *\n",
    "from xgboost import XGBClassifier\n",
    "\n",
    "%matplotlib inline\n",
    "warnings.filterwarnings('ignore')\n"
   ]
  },
  {
   "cell_type": "code",
   "execution_count": 2,
   "id": "2e2fe8c4-2f76-42c2-9b2e-83474bdfc0ae",
   "metadata": {},
   "outputs": [],
   "source": [
    "def mean_std_cross_val_scores(model, X_train, y_train, **kwargs):\n",
    "    \"\"\"\n",
    "    Returns mean and std of cross validation\n",
    "\n",
    "    Parameters\n",
    "    ----------\n",
    "    model :\n",
    "        scikit-learn model\n",
    "    X_train : numpy array or pandas DataFrame\n",
    "        X in the training data\n",
    "    y_train :\n",
    "        y in the training data\n",
    "\n",
    "    Returns\n",
    "    ----------\n",
    "        pandas Series with mean scores from cross_validation\n",
    "    \"\"\"\n",
    "\n",
    "    scores = cross_validate(model, X_train, y_train, **kwargs)\n",
    "\n",
    "    mean_scores = pd.DataFrame(scores).mean()\n",
    "    std_scores = pd.DataFrame(scores).std()\n",
    "    out_col = []\n",
    "\n",
    "    for i in range(len(mean_scores)):\n",
    "        out_col.append((f\"%0.3f (+/- %0.3f)\" % (mean_scores[i], std_scores[i])))\n",
    "\n",
    "    return pd.Series(data=out_col, index=mean_scores.index)"
   ]
  },
  {
   "cell_type": "markdown",
   "id": "727b18ce-f81d-4c5f-80e1-a46114a7ffab",
   "metadata": {},
   "source": [
    "**Import and inspect Data**"
   ]
  },
  {
   "cell_type": "code",
   "execution_count": 3,
   "id": "89d84ab8-6b47-4e9b-9908-c73da30c036c",
   "metadata": {},
   "outputs": [],
   "source": [
    "path = os.getcwd()\n",
    "data = pd.read_excel(os.path.join(path, \"data/pumpkin.xlsx\"), sheet_name = \"Pumpkin_Seeds_Dataset\")"
   ]
  },
  {
   "cell_type": "code",
   "execution_count": 4,
   "id": "3ae49f7b-0cd9-4e81-bedf-b5de8dd7517a",
   "metadata": {},
   "outputs": [
    {
     "data": {
      "text/html": [
       "<div>\n",
       "<style scoped>\n",
       "    .dataframe tbody tr th:only-of-type {\n",
       "        vertical-align: middle;\n",
       "    }\n",
       "\n",
       "    .dataframe tbody tr th {\n",
       "        vertical-align: top;\n",
       "    }\n",
       "\n",
       "    .dataframe thead th {\n",
       "        text-align: right;\n",
       "    }\n",
       "</style>\n",
       "<table border=\"1\" class=\"dataframe\">\n",
       "  <thead>\n",
       "    <tr style=\"text-align: right;\">\n",
       "      <th></th>\n",
       "      <th>Area</th>\n",
       "      <th>Perimeter</th>\n",
       "      <th>Major_Axis_Length</th>\n",
       "      <th>Minor_Axis_Length</th>\n",
       "      <th>Convex_Area</th>\n",
       "      <th>Equiv_Diameter</th>\n",
       "      <th>Eccentricity</th>\n",
       "      <th>Solidity</th>\n",
       "      <th>Extent</th>\n",
       "      <th>Roundness</th>\n",
       "      <th>Aspect_Ration</th>\n",
       "      <th>Compactness</th>\n",
       "      <th>Class</th>\n",
       "    </tr>\n",
       "  </thead>\n",
       "  <tbody>\n",
       "    <tr>\n",
       "      <th>0</th>\n",
       "      <td>56276</td>\n",
       "      <td>888.242</td>\n",
       "      <td>326.1485</td>\n",
       "      <td>220.2388</td>\n",
       "      <td>56831</td>\n",
       "      <td>267.6805</td>\n",
       "      <td>0.7376</td>\n",
       "      <td>0.9902</td>\n",
       "      <td>0.7453</td>\n",
       "      <td>0.8963</td>\n",
       "      <td>1.4809</td>\n",
       "      <td>0.8207</td>\n",
       "      <td>Çerçevelik</td>\n",
       "    </tr>\n",
       "    <tr>\n",
       "      <th>1</th>\n",
       "      <td>76631</td>\n",
       "      <td>1068.146</td>\n",
       "      <td>417.1932</td>\n",
       "      <td>234.2289</td>\n",
       "      <td>77280</td>\n",
       "      <td>312.3614</td>\n",
       "      <td>0.8275</td>\n",
       "      <td>0.9916</td>\n",
       "      <td>0.7151</td>\n",
       "      <td>0.8440</td>\n",
       "      <td>1.7811</td>\n",
       "      <td>0.7487</td>\n",
       "      <td>Çerçevelik</td>\n",
       "    </tr>\n",
       "    <tr>\n",
       "      <th>2</th>\n",
       "      <td>71623</td>\n",
       "      <td>1082.987</td>\n",
       "      <td>435.8328</td>\n",
       "      <td>211.0457</td>\n",
       "      <td>72663</td>\n",
       "      <td>301.9822</td>\n",
       "      <td>0.8749</td>\n",
       "      <td>0.9857</td>\n",
       "      <td>0.7400</td>\n",
       "      <td>0.7674</td>\n",
       "      <td>2.0651</td>\n",
       "      <td>0.6929</td>\n",
       "      <td>Çerçevelik</td>\n",
       "    </tr>\n",
       "    <tr>\n",
       "      <th>3</th>\n",
       "      <td>66458</td>\n",
       "      <td>992.051</td>\n",
       "      <td>381.5638</td>\n",
       "      <td>222.5322</td>\n",
       "      <td>67118</td>\n",
       "      <td>290.8899</td>\n",
       "      <td>0.8123</td>\n",
       "      <td>0.9902</td>\n",
       "      <td>0.7396</td>\n",
       "      <td>0.8486</td>\n",
       "      <td>1.7146</td>\n",
       "      <td>0.7624</td>\n",
       "      <td>Çerçevelik</td>\n",
       "    </tr>\n",
       "    <tr>\n",
       "      <th>4</th>\n",
       "      <td>66107</td>\n",
       "      <td>998.146</td>\n",
       "      <td>383.8883</td>\n",
       "      <td>220.4545</td>\n",
       "      <td>67117</td>\n",
       "      <td>290.1207</td>\n",
       "      <td>0.8187</td>\n",
       "      <td>0.9850</td>\n",
       "      <td>0.6752</td>\n",
       "      <td>0.8338</td>\n",
       "      <td>1.7413</td>\n",
       "      <td>0.7557</td>\n",
       "      <td>Çerçevelik</td>\n",
       "    </tr>\n",
       "  </tbody>\n",
       "</table>\n",
       "</div>"
      ],
      "text/plain": [
       "    Area  Perimeter  Major_Axis_Length  Minor_Axis_Length  Convex_Area  \\\n",
       "0  56276    888.242           326.1485           220.2388        56831   \n",
       "1  76631   1068.146           417.1932           234.2289        77280   \n",
       "2  71623   1082.987           435.8328           211.0457        72663   \n",
       "3  66458    992.051           381.5638           222.5322        67118   \n",
       "4  66107    998.146           383.8883           220.4545        67117   \n",
       "\n",
       "   Equiv_Diameter  Eccentricity  Solidity  Extent  Roundness  Aspect_Ration  \\\n",
       "0        267.6805        0.7376    0.9902  0.7453     0.8963         1.4809   \n",
       "1        312.3614        0.8275    0.9916  0.7151     0.8440         1.7811   \n",
       "2        301.9822        0.8749    0.9857  0.7400     0.7674         2.0651   \n",
       "3        290.8899        0.8123    0.9902  0.7396     0.8486         1.7146   \n",
       "4        290.1207        0.8187    0.9850  0.6752     0.8338         1.7413   \n",
       "\n",
       "   Compactness       Class  \n",
       "0       0.8207  Çerçevelik  \n",
       "1       0.7487  Çerçevelik  \n",
       "2       0.6929  Çerçevelik  \n",
       "3       0.7624  Çerçevelik  \n",
       "4       0.7557  Çerçevelik  "
      ]
     },
     "execution_count": 4,
     "metadata": {},
     "output_type": "execute_result"
    }
   ],
   "source": [
    "data.head()"
   ]
  },
  {
   "cell_type": "code",
   "execution_count": 5,
   "id": "a54225e2-1131-431a-b942-291d924df473",
   "metadata": {},
   "outputs": [
    {
     "name": "stdout",
     "output_type": "stream",
     "text": [
      "<class 'pandas.core.frame.DataFrame'>\n",
      "RangeIndex: 2500 entries, 0 to 2499\n",
      "Data columns (total 13 columns):\n",
      " #   Column             Non-Null Count  Dtype  \n",
      "---  ------             --------------  -----  \n",
      " 0   Area               2500 non-null   int64  \n",
      " 1   Perimeter          2500 non-null   float64\n",
      " 2   Major_Axis_Length  2500 non-null   float64\n",
      " 3   Minor_Axis_Length  2500 non-null   float64\n",
      " 4   Convex_Area        2500 non-null   int64  \n",
      " 5   Equiv_Diameter     2500 non-null   float64\n",
      " 6   Eccentricity       2500 non-null   float64\n",
      " 7   Solidity           2500 non-null   float64\n",
      " 8   Extent             2500 non-null   float64\n",
      " 9   Roundness          2500 non-null   float64\n",
      " 10  Aspect_Ration      2500 non-null   float64\n",
      " 11  Compactness        2500 non-null   float64\n",
      " 12  Class              2500 non-null   object \n",
      "dtypes: float64(10), int64(2), object(1)\n",
      "memory usage: 254.0+ KB\n"
     ]
    }
   ],
   "source": [
    "data.info()"
   ]
  },
  {
   "cell_type": "code",
   "execution_count": null,
   "id": "38aa4b70-533f-4169-aecb-fe9efe98bdbb",
   "metadata": {},
   "outputs": [],
   "source": []
  },
  {
   "cell_type": "code",
   "execution_count": 6,
   "id": "61cf27af-d5cf-4e13-b6bc-9c05029b1b12",
   "metadata": {},
   "outputs": [],
   "source": [
    "data = data.rename(columns=str.lower)"
   ]
  },
  {
   "cell_type": "code",
   "execution_count": 7,
   "id": "5798e42a-a898-43bf-a81a-748f3fbb6fbf",
   "metadata": {},
   "outputs": [
    {
     "data": {
      "text/plain": [
       "75637    3\n",
       "97268    3\n",
       "68063    3\n",
       "96928    2\n",
       "76461    2\n",
       "        ..\n",
       "76581    1\n",
       "70110    1\n",
       "66208    1\n",
       "80529    1\n",
       "80011    1\n",
       "Name: area, Length: 2424, dtype: int64"
      ]
     },
     "execution_count": 7,
     "metadata": {},
     "output_type": "execute_result"
    }
   ],
   "source": [
    "data.area.value_counts()"
   ]
  },
  {
   "cell_type": "markdown",
   "id": "06d795a7-a69f-4d6b-86bd-353e344066ed",
   "metadata": {},
   "source": [
    "**Define column types for column transformation**"
   ]
  },
  {
   "cell_type": "code",
   "execution_count": 8,
   "id": "bbe4a31e-35cf-45c2-b014-382d23feaf16",
   "metadata": {},
   "outputs": [],
   "source": [
    "numeric_columns = data.columns[1:-1]\n",
    "target_column = \"class\"\n",
    "drop_column = [\"area\"]"
   ]
  },
  {
   "cell_type": "code",
   "execution_count": 9,
   "id": "69c96480-a505-495f-9796-2d4bff31b441",
   "metadata": {},
   "outputs": [],
   "source": [
    "numeric_transformer = make_pipeline(StandardScaler())\n",
    "\n",
    "preprocessor = make_column_transformer(\n",
    "    (\"drop\", drop_column),\n",
    "    (numeric_transformer, numeric_columns)\n",
    ")"
   ]
  },
  {
   "cell_type": "markdown",
   "id": "0e9d7c1e-5681-49bf-9914-412435a57d95",
   "metadata": {},
   "source": [
    "**Split Data**"
   ]
  },
  {
   "cell_type": "code",
   "execution_count": 10,
   "id": "5adc0b84-b23a-42fe-a2b5-d50d1a4fb214",
   "metadata": {},
   "outputs": [],
   "source": [
    "train, test = train_test_split(data, test_size=0.2, random_state=2022)\n",
    "\n",
    "X_train = train.drop(columns=[target_column])\n",
    "y_train = train[target_column]\n",
    "\n",
    "X_test = test.drop(columns=[target_column])\n",
    "y_test = test[target_column]"
   ]
  },
  {
   "cell_type": "code",
   "execution_count": 11,
   "id": "3eacb040-cae9-439c-a5cd-0fd44ad412c6",
   "metadata": {},
   "outputs": [
    {
     "data": {
      "text/plain": [
       "Index(['area', 'perimeter', 'major_axis_length', 'minor_axis_length',\n",
       "       'convex_area', 'equiv_diameter', 'eccentricity', 'solidity', 'extent',\n",
       "       'roundness', 'aspect_ration', 'compactness'],\n",
       "      dtype='object')"
      ]
     },
     "execution_count": 11,
     "metadata": {},
     "output_type": "execute_result"
    }
   ],
   "source": [
    "X_train.columns"
   ]
  },
  {
   "cell_type": "markdown",
   "id": "83a93a2b-94dc-47e5-b8b3-6a5754a67161",
   "metadata": {},
   "source": [
    "**Check for class Balance**"
   ]
  },
  {
   "cell_type": "code",
   "execution_count": 12,
   "id": "be21b875-7271-4a88-8713-3f26aea8f3db",
   "metadata": {},
   "outputs": [
    {
     "data": {
      "image/png": "[encoded data removed]",
      "text/plain": [
       "<Figure size 432x288 with 1 Axes>"
      ]
     },
     "metadata": {
      "needs_background": "light"
     },
     "output_type": "display_data"
    }
   ],
   "source": [
    "train[\"class\"].value_counts().plot(kind = \"bar\",\n",
    "                                   title = \"Count plot: CLass Balance\",\n",
    "                                   xlabel = \"Seed Class\",\n",
    "                                   ylabel = \"Count\"\n",
    "                                  );"
   ]
  },
  {
   "cell_type": "code",
   "execution_count": 13,
   "id": "ba482625-0c02-415c-9471-1dbabe76e9f7",
   "metadata": {},
   "outputs": [],
   "source": [
    "# not a perfect balance, but we can work with this"
   ]
  },
  {
   "cell_type": "markdown",
   "id": "89ab2bde-9c0c-4313-93e6-2c7a123b3458",
   "metadata": {},
   "source": [
    "**Initialize Models**"
   ]
  },
  {
   "cell_type": "code",
   "execution_count": 14,
   "id": "a8675755-fe31-4e94-a602-40800ec92e2b",
   "metadata": {},
   "outputs": [],
   "source": [
    "results = {}\n",
    "scoring_metric = \"accuracy\"\n",
    "\n",
    "pipe_lr = make_pipeline(\n",
    "    preprocessor, LogisticRegression(max_iter=2000, random_state=2022)\n",
    ")\n",
    "pipe_rf = make_pipeline(preprocessor, RandomForestClassifier(random_state=2022))\n",
    "pipe_xgb = make_pipeline(\n",
    "    preprocessor, XGBClassifier(random_state=2022)\n",
    ")\n",
    "pipe_lgbm = make_pipeline(preprocessor, LGBMClassifier(random_state=2022))\n",
    "classifiers = {\n",
    "    \"logistic regression\": pipe_lr,\n",
    "    \"random forest\": pipe_rf,\n",
    "    \"LightGBM\": pipe_lgbm,\n",
    "}"
   ]
  },
  {
   "cell_type": "code",
   "execution_count": 15,
   "id": "723b6ac5-f2a0-40d1-bec5-4f1b059dca5d",
   "metadata": {},
   "outputs": [],
   "source": [
    "for (name, model) in classifiers.items():\n",
    "    results[name] = mean_std_cross_val_scores(\n",
    "        model, X_train, y_train, return_train_score=True, scoring=scoring_metric\n",
    "    )"
   ]
  },
  {
   "cell_type": "code",
   "execution_count": 16,
   "id": "e2462190-ba26-4c25-b3d0-46338023e23d",
   "metadata": {},
   "outputs": [
    {
     "data": {
      "text/html": [
       "<div>\n",
       "<style scoped>\n",
       "    .dataframe tbody tr th:only-of-type {\n",
       "        vertical-align: middle;\n",
       "    }\n",
       "\n",
       "    .dataframe tbody tr th {\n",
       "        vertical-align: top;\n",
       "    }\n",
       "\n",
       "    .dataframe thead th {\n",
       "        text-align: right;\n",
       "    }\n",
       "</style>\n",
       "<table border=\"1\" class=\"dataframe\">\n",
       "  <thead>\n",
       "    <tr style=\"text-align: right;\">\n",
       "      <th></th>\n",
       "      <th>logistic regression</th>\n",
       "      <th>random forest</th>\n",
       "      <th>LightGBM</th>\n",
       "    </tr>\n",
       "  </thead>\n",
       "  <tbody>\n",
       "    <tr>\n",
       "      <th>fit_time</th>\n",
       "      <td>0.023 (+/- 0.009)</td>\n",
       "      <td>0.352 (+/- 0.032)</td>\n",
       "      <td>0.101 (+/- 0.012)</td>\n",
       "    </tr>\n",
       "    <tr>\n",
       "      <th>score_time</th>\n",
       "      <td>0.004 (+/- 0.000)</td>\n",
       "      <td>0.017 (+/- 0.003)</td>\n",
       "      <td>0.007 (+/- 0.001)</td>\n",
       "    </tr>\n",
       "    <tr>\n",
       "      <th>test_score</th>\n",
       "      <td>0.880 (+/- 0.014)</td>\n",
       "      <td>0.891 (+/- 0.023)</td>\n",
       "      <td>0.879 (+/- 0.022)</td>\n",
       "    </tr>\n",
       "    <tr>\n",
       "      <th>train_score</th>\n",
       "      <td>0.882 (+/- 0.005)</td>\n",
       "      <td>1.000 (+/- 0.000)</td>\n",
       "      <td>1.000 (+/- 0.000)</td>\n",
       "    </tr>\n",
       "  </tbody>\n",
       "</table>\n",
       "</div>"
      ],
      "text/plain": [
       "            logistic regression      random forest           LightGBM\n",
       "fit_time      0.023 (+/- 0.009)  0.352 (+/- 0.032)  0.101 (+/- 0.012)\n",
       "score_time    0.004 (+/- 0.000)  0.017 (+/- 0.003)  0.007 (+/- 0.001)\n",
       "test_score    0.880 (+/- 0.014)  0.891 (+/- 0.023)  0.879 (+/- 0.022)\n",
       "train_score   0.882 (+/- 0.005)  1.000 (+/- 0.000)  1.000 (+/- 0.000)"
      ]
     },
     "execution_count": 16,
     "metadata": {},
     "output_type": "execute_result"
    }
   ],
   "source": [
    "pd.DataFrame(results)"
   ]
  },
  {
   "cell_type": "markdown",
   "id": "f2e87d4f-d1d5-4a75-adbe-fe209ac810dc",
   "metadata": {},
   "source": [
    "**Score Interpretation**"
   ]
  },
  {
   "cell_type": "markdown",
   "id": "b8247d33-5bbd-49d5-9206-4ceee43c2341",
   "metadata": {},
   "source": [
    "- Random Forest is the best model\n",
    "- Logistic regression gives a better score than the gradient boosting models.\n",
    "- LightGBM gives good scores without hyper parameterization."
   ]
  },
  {
   "cell_type": "markdown",
   "id": "de452d74-154f-4da3-874b-21c6461227ba",
   "metadata": {},
   "source": [
    "---"
   ]
  },
  {
   "cell_type": "markdown",
   "id": "1d62e257-ee3f-4184-8f06-9f9e9c7188b6",
   "metadata": {},
   "source": [
    "---"
   ]
  },
  {
   "cell_type": "markdown",
   "id": "6018871e-b5f7-4583-9e99-bd3be2a5240b",
   "metadata": {},
   "source": [
    "### Interpretation "
   ]
  },
  {
   "cell_type": "markdown",
   "id": "b1322a59-7ee6-45ba-accf-036d517a6613",
   "metadata": {},
   "source": [
    "#### Logistic Regression : Feature Importance In Linear Model"
   ]
  },
  {
   "cell_type": "code",
   "execution_count": 17,
   "id": "ba0839e0-dd7b-49b8-8c60-15c24d3f8886",
   "metadata": {},
   "outputs": [],
   "source": [
    "pipe_lr.fit(X_train, y_train)\n",
    "\n",
    "lr_data = {\n",
    "    \"coefficient\": pipe_lr.named_steps[\"logisticregression\"].coef_.flatten().tolist(),\n",
    "    \"magnitude\": np.absolute(\n",
    "        pipe_lr.named_steps[\"logisticregression\"].coef_.flatten().tolist()\n",
    "    ),\n",
    "}\n",
    "coef_lr = pd.DataFrame(lr_data, index= numeric_columns).sort_values(\n",
    "    \"coefficient\", ascending=False\n",
    ")"
   ]
  },
  {
   "cell_type": "code",
   "execution_count": 18,
   "id": "dce1f9fa-e0c6-45cc-96fc-a35c9d8fccbf",
   "metadata": {},
   "outputs": [
    {
     "data": {
      "text/html": [
       "<div>\n",
       "<style scoped>\n",
       "    .dataframe tbody tr th:only-of-type {\n",
       "        vertical-align: middle;\n",
       "    }\n",
       "\n",
       "    .dataframe tbody tr th {\n",
       "        vertical-align: top;\n",
       "    }\n",
       "\n",
       "    .dataframe thead th {\n",
       "        text-align: right;\n",
       "    }\n",
       "</style>\n",
       "<table border=\"1\" class=\"dataframe\">\n",
       "  <thead>\n",
       "    <tr style=\"text-align: right;\">\n",
       "      <th></th>\n",
       "      <th>coefficient</th>\n",
       "      <th>magnitude</th>\n",
       "    </tr>\n",
       "  </thead>\n",
       "  <tbody>\n",
       "    <tr>\n",
       "      <th>convex_area</th>\n",
       "      <td>2.591466</td>\n",
       "      <td>2.591466</td>\n",
       "    </tr>\n",
       "    <tr>\n",
       "      <th>aspect_ration</th>\n",
       "      <td>1.785008</td>\n",
       "      <td>1.785008</td>\n",
       "    </tr>\n",
       "    <tr>\n",
       "      <th>solidity</th>\n",
       "      <td>0.703159</td>\n",
       "      <td>0.703159</td>\n",
       "    </tr>\n",
       "    <tr>\n",
       "      <th>major_axis_length</th>\n",
       "      <td>0.346242</td>\n",
       "      <td>0.346242</td>\n",
       "    </tr>\n",
       "    <tr>\n",
       "      <th>extent</th>\n",
       "      <td>0.018317</td>\n",
       "      <td>0.018317</td>\n",
       "    </tr>\n",
       "    <tr>\n",
       "      <th>minor_axis_length</th>\n",
       "      <td>-0.230135</td>\n",
       "      <td>0.230135</td>\n",
       "    </tr>\n",
       "    <tr>\n",
       "      <th>roundness</th>\n",
       "      <td>-1.034266</td>\n",
       "      <td>1.034266</td>\n",
       "    </tr>\n",
       "    <tr>\n",
       "      <th>perimeter</th>\n",
       "      <td>-1.161847</td>\n",
       "      <td>1.161847</td>\n",
       "    </tr>\n",
       "    <tr>\n",
       "      <th>equiv_diameter</th>\n",
       "      <td>-1.547765</td>\n",
       "      <td>1.547765</td>\n",
       "    </tr>\n",
       "    <tr>\n",
       "      <th>eccentricity</th>\n",
       "      <td>-1.597774</td>\n",
       "      <td>1.597774</td>\n",
       "    </tr>\n",
       "    <tr>\n",
       "      <th>compactness</th>\n",
       "      <td>-1.969038</td>\n",
       "      <td>1.969038</td>\n",
       "    </tr>\n",
       "  </tbody>\n",
       "</table>\n",
       "</div>"
      ],
      "text/plain": [
       "                   coefficient  magnitude\n",
       "convex_area           2.591466   2.591466\n",
       "aspect_ration         1.785008   1.785008\n",
       "solidity              0.703159   0.703159\n",
       "major_axis_length     0.346242   0.346242\n",
       "extent                0.018317   0.018317\n",
       "minor_axis_length    -0.230135   0.230135\n",
       "roundness            -1.034266   1.034266\n",
       "perimeter            -1.161847   1.161847\n",
       "equiv_diameter       -1.547765   1.547765\n",
       "eccentricity         -1.597774   1.597774\n",
       "compactness          -1.969038   1.969038"
      ]
     },
     "execution_count": 18,
     "metadata": {},
     "output_type": "execute_result"
    }
   ],
   "source": [
    "coef_lr"
   ]
  },
  {
   "cell_type": "code",
   "execution_count": 19,
   "id": "132061d2-fbbb-4dbb-a963-9e5b022688a5",
   "metadata": {},
   "outputs": [
    {
     "data": {
      "text/plain": [
       "array(['Çerçevelik', 'Ürgüp Sivrisi'], dtype=object)"
      ]
     },
     "execution_count": 19,
     "metadata": {},
     "output_type": "execute_result"
    }
   ],
   "source": [
    "pipe_lr.classes_ "
   ]
  },
  {
   "cell_type": "markdown",
   "id": "d3ffaa0e-ca60-4631-a8c7-9acb60f784dd",
   "metadata": {},
   "source": [
    "#### Interpretation of Coefficients of Logistics Model\n",
    "NOTE : The default class set by the logistic regression model is : \n",
    "- `Çerçevelik` is the class with index 0 or the positive class \n",
    "- `Ürgüp Sivrisi` the class with index 1 or negative class \n",
    "\n"
   ]
  },
  {
   "cell_type": "markdown",
   "id": "d2b499eb-19f8-4131-80de-a5d84bc288f2",
   "metadata": {},
   "source": [
    "##### Increasing Compactness "
   ]
  },
  {
   "cell_type": "code",
   "execution_count": 20,
   "id": "9f672dee-8699-417d-aeef-6fc576678e8e",
   "metadata": {},
   "outputs": [
    {
     "name": "stdout",
     "output_type": "stream",
     "text": [
      " The prediction when compactness is increased is: Çerçevelik\n"
     ]
    },
    {
     "data": {
      "text/html": [
       "<div>\n",
       "<style scoped>\n",
       "    .dataframe tbody tr th:only-of-type {\n",
       "        vertical-align: middle;\n",
       "    }\n",
       "\n",
       "    .dataframe tbody tr th {\n",
       "        vertical-align: top;\n",
       "    }\n",
       "\n",
       "    .dataframe thead th {\n",
       "        text-align: right;\n",
       "    }\n",
       "</style>\n",
       "<table border=\"1\" class=\"dataframe\">\n",
       "  <thead>\n",
       "    <tr style=\"text-align: right;\">\n",
       "      <th></th>\n",
       "      <th>area</th>\n",
       "      <th>perimeter</th>\n",
       "      <th>major_axis_length</th>\n",
       "      <th>minor_axis_length</th>\n",
       "      <th>convex_area</th>\n",
       "      <th>equiv_diameter</th>\n",
       "      <th>eccentricity</th>\n",
       "      <th>solidity</th>\n",
       "      <th>extent</th>\n",
       "      <th>roundness</th>\n",
       "      <th>aspect_ration</th>\n",
       "      <th>compactness</th>\n",
       "    </tr>\n",
       "  </thead>\n",
       "  <tbody>\n",
       "    <tr>\n",
       "      <th>1882</th>\n",
       "      <td>96325</td>\n",
       "      <td>1305.855</td>\n",
       "      <td>551.395</td>\n",
       "      <td>224.9857</td>\n",
       "      <td>97155</td>\n",
       "      <td>350.2068</td>\n",
       "      <td>0.913</td>\n",
       "      <td>0.9915</td>\n",
       "      <td>0.5223</td>\n",
       "      <td>0.7098</td>\n",
       "      <td>2.4508</td>\n",
       "      <td>1.2702</td>\n",
       "    </tr>\n",
       "  </tbody>\n",
       "</table>\n",
       "</div>"
      ],
      "text/plain": [
       "       area  perimeter  major_axis_length  minor_axis_length  convex_area  \\\n",
       "1882  96325   1305.855            551.395           224.9857        97155   \n",
       "\n",
       "      equiv_diameter  eccentricity  solidity  extent  roundness  \\\n",
       "1882        350.2068         0.913    0.9915  0.5223     0.7098   \n",
       "\n",
       "      aspect_ration  compactness  \n",
       "1882         2.4508       1.2702  "
      ]
     },
     "execution_count": 20,
     "metadata": {},
     "output_type": "execute_result"
    }
   ],
   "source": [
    "example_1a = X_test[255:256].copy()\n",
    "example_1a['compactness'] = example_1a['compactness'] * 2\n",
    "\n",
    "print(f' The prediction when compactness is increased is: {pipe_lr.predict(example_1a)[0]}')\n",
    "example_1a"
   ]
  },
  {
   "cell_type": "code",
   "execution_count": null,
   "id": "a983b39e-7900-4af7-b2bf-3a1148781f16",
   "metadata": {},
   "outputs": [],
   "source": []
  },
  {
   "cell_type": "markdown",
   "id": "4fee8e2b-5981-4675-b478-7bf32f78d206",
   "metadata": {},
   "source": [
    "##### Decreasing Compactness "
   ]
  },
  {
   "cell_type": "code",
   "execution_count": 21,
   "id": "60d4d2c2-d693-40f7-9017-74855d620980",
   "metadata": {},
   "outputs": [
    {
     "name": "stdout",
     "output_type": "stream",
     "text": [
      " The prediction when compactness is decreased is: Ürgüp Sivrisi\n"
     ]
    },
    {
     "data": {
      "text/html": [
       "<div>\n",
       "<style scoped>\n",
       "    .dataframe tbody tr th:only-of-type {\n",
       "        vertical-align: middle;\n",
       "    }\n",
       "\n",
       "    .dataframe tbody tr th {\n",
       "        vertical-align: top;\n",
       "    }\n",
       "\n",
       "    .dataframe thead th {\n",
       "        text-align: right;\n",
       "    }\n",
       "</style>\n",
       "<table border=\"1\" class=\"dataframe\">\n",
       "  <thead>\n",
       "    <tr style=\"text-align: right;\">\n",
       "      <th></th>\n",
       "      <th>area</th>\n",
       "      <th>perimeter</th>\n",
       "      <th>major_axis_length</th>\n",
       "      <th>minor_axis_length</th>\n",
       "      <th>convex_area</th>\n",
       "      <th>equiv_diameter</th>\n",
       "      <th>eccentricity</th>\n",
       "      <th>solidity</th>\n",
       "      <th>extent</th>\n",
       "      <th>roundness</th>\n",
       "      <th>aspect_ration</th>\n",
       "      <th>compactness</th>\n",
       "    </tr>\n",
       "  </thead>\n",
       "  <tbody>\n",
       "    <tr>\n",
       "      <th>1882</th>\n",
       "      <td>96325</td>\n",
       "      <td>1305.855</td>\n",
       "      <td>551.395</td>\n",
       "      <td>224.9857</td>\n",
       "      <td>97155</td>\n",
       "      <td>350.2068</td>\n",
       "      <td>0.913</td>\n",
       "      <td>0.9915</td>\n",
       "      <td>0.5223</td>\n",
       "      <td>0.7098</td>\n",
       "      <td>2.4508</td>\n",
       "      <td>0.31755</td>\n",
       "    </tr>\n",
       "  </tbody>\n",
       "</table>\n",
       "</div>"
      ],
      "text/plain": [
       "       area  perimeter  major_axis_length  minor_axis_length  convex_area  \\\n",
       "1882  96325   1305.855            551.395           224.9857        97155   \n",
       "\n",
       "      equiv_diameter  eccentricity  solidity  extent  roundness  \\\n",
       "1882        350.2068         0.913    0.9915  0.5223     0.7098   \n",
       "\n",
       "      aspect_ration  compactness  \n",
       "1882         2.4508      0.31755  "
      ]
     },
     "execution_count": 21,
     "metadata": {},
     "output_type": "execute_result"
    }
   ],
   "source": [
    "example_1b = X_test[255:256].copy()\n",
    "example_1b['compactness'] = example_1b['compactness'] / 2\n",
    "\n",
    "\n",
    "print(f' The prediction when compactness is decreased is: {pipe_lr.predict(example_1b)[0]}')\n",
    "example_1b"
   ]
  },
  {
   "cell_type": "markdown",
   "id": "e3937203-6f38-42d2-bebd-58e68806fe71",
   "metadata": {},
   "source": [
    "##### Increasing Convex Area"
   ]
  },
  {
   "cell_type": "code",
   "execution_count": 22,
   "id": "7e4b6ed3-6dd4-46db-ae19-00870a05e29e",
   "metadata": {},
   "outputs": [
    {
     "name": "stdout",
     "output_type": "stream",
     "text": [
      "The prediction when convex area is increased is: Ürgüp Sivrisi\n"
     ]
    },
    {
     "data": {
      "text/html": [
       "<div>\n",
       "<style scoped>\n",
       "    .dataframe tbody tr th:only-of-type {\n",
       "        vertical-align: middle;\n",
       "    }\n",
       "\n",
       "    .dataframe tbody tr th {\n",
       "        vertical-align: top;\n",
       "    }\n",
       "\n",
       "    .dataframe thead th {\n",
       "        text-align: right;\n",
       "    }\n",
       "</style>\n",
       "<table border=\"1\" class=\"dataframe\">\n",
       "  <thead>\n",
       "    <tr style=\"text-align: right;\">\n",
       "      <th></th>\n",
       "      <th>area</th>\n",
       "      <th>perimeter</th>\n",
       "      <th>major_axis_length</th>\n",
       "      <th>minor_axis_length</th>\n",
       "      <th>convex_area</th>\n",
       "      <th>equiv_diameter</th>\n",
       "      <th>eccentricity</th>\n",
       "      <th>solidity</th>\n",
       "      <th>extent</th>\n",
       "      <th>roundness</th>\n",
       "      <th>aspect_ration</th>\n",
       "      <th>compactness</th>\n",
       "    </tr>\n",
       "  </thead>\n",
       "  <tbody>\n",
       "    <tr>\n",
       "      <th>1882</th>\n",
       "      <td>96325</td>\n",
       "      <td>1305.855</td>\n",
       "      <td>551.395</td>\n",
       "      <td>224.9857</td>\n",
       "      <td>194310</td>\n",
       "      <td>350.2068</td>\n",
       "      <td>0.913</td>\n",
       "      <td>0.9915</td>\n",
       "      <td>0.5223</td>\n",
       "      <td>0.7098</td>\n",
       "      <td>2.4508</td>\n",
       "      <td>0.6351</td>\n",
       "    </tr>\n",
       "  </tbody>\n",
       "</table>\n",
       "</div>"
      ],
      "text/plain": [
       "       area  perimeter  major_axis_length  minor_axis_length  convex_area  \\\n",
       "1882  96325   1305.855            551.395           224.9857       194310   \n",
       "\n",
       "      equiv_diameter  eccentricity  solidity  extent  roundness  \\\n",
       "1882        350.2068         0.913    0.9915  0.5223     0.7098   \n",
       "\n",
       "      aspect_ration  compactness  \n",
       "1882         2.4508       0.6351  "
      ]
     },
     "execution_count": 22,
     "metadata": {},
     "output_type": "execute_result"
    }
   ],
   "source": [
    "example_2a = X_test[255:256].copy()\n",
    "example_2a['convex_area'] = example_2a['convex_area'] * 2\n",
    "\n",
    "print(f'The prediction when convex area is increased is: {pipe_lr.predict(example_2a)[0]}')\n",
    "example_2a"
   ]
  },
  {
   "cell_type": "markdown",
   "id": "9bbf9b97-17ee-4e59-aa08-7a3853730425",
   "metadata": {},
   "source": [
    "##### Decreasing Convex Area"
   ]
  },
  {
   "cell_type": "code",
   "execution_count": 23,
   "id": "724892fe-4175-4094-839b-93dfef77132c",
   "metadata": {},
   "outputs": [
    {
     "name": "stdout",
     "output_type": "stream",
     "text": [
      " The prediction when convex area is decreased is: Çerçevelik\n"
     ]
    },
    {
     "data": {
      "text/html": [
       "<div>\n",
       "<style scoped>\n",
       "    .dataframe tbody tr th:only-of-type {\n",
       "        vertical-align: middle;\n",
       "    }\n",
       "\n",
       "    .dataframe tbody tr th {\n",
       "        vertical-align: top;\n",
       "    }\n",
       "\n",
       "    .dataframe thead th {\n",
       "        text-align: right;\n",
       "    }\n",
       "</style>\n",
       "<table border=\"1\" class=\"dataframe\">\n",
       "  <thead>\n",
       "    <tr style=\"text-align: right;\">\n",
       "      <th></th>\n",
       "      <th>area</th>\n",
       "      <th>perimeter</th>\n",
       "      <th>major_axis_length</th>\n",
       "      <th>minor_axis_length</th>\n",
       "      <th>convex_area</th>\n",
       "      <th>equiv_diameter</th>\n",
       "      <th>eccentricity</th>\n",
       "      <th>solidity</th>\n",
       "      <th>extent</th>\n",
       "      <th>roundness</th>\n",
       "      <th>aspect_ration</th>\n",
       "      <th>compactness</th>\n",
       "    </tr>\n",
       "  </thead>\n",
       "  <tbody>\n",
       "    <tr>\n",
       "      <th>1882</th>\n",
       "      <td>96325</td>\n",
       "      <td>1305.855</td>\n",
       "      <td>551.395</td>\n",
       "      <td>224.9857</td>\n",
       "      <td>48577.5</td>\n",
       "      <td>350.2068</td>\n",
       "      <td>0.913</td>\n",
       "      <td>0.9915</td>\n",
       "      <td>0.5223</td>\n",
       "      <td>0.7098</td>\n",
       "      <td>2.4508</td>\n",
       "      <td>0.6351</td>\n",
       "    </tr>\n",
       "  </tbody>\n",
       "</table>\n",
       "</div>"
      ],
      "text/plain": [
       "       area  perimeter  major_axis_length  minor_axis_length  convex_area  \\\n",
       "1882  96325   1305.855            551.395           224.9857      48577.5   \n",
       "\n",
       "      equiv_diameter  eccentricity  solidity  extent  roundness  \\\n",
       "1882        350.2068         0.913    0.9915  0.5223     0.7098   \n",
       "\n",
       "      aspect_ration  compactness  \n",
       "1882         2.4508       0.6351  "
      ]
     },
     "execution_count": 23,
     "metadata": {},
     "output_type": "execute_result"
    }
   ],
   "source": [
    "example_2b = X_test[255:256].copy()\n",
    "example_2b['convex_area'] = example_2b['convex_area'] / 2\n",
    "\n",
    "print(f' The prediction when convex area is decreased is: {pipe_lr.predict(example_2b)[0]}')\n",
    "example_2b"
   ]
  },
  {
   "cell_type": "markdown",
   "id": "8e8d60e4-73bf-40e7-bbc1-fc2b50c3435c",
   "metadata": {},
   "source": [
    "The coefficients of the model is interpreted thus: \n",
    "\n",
    "- Increasing the `compactness` is likely to push the prediction towards `Çerçevelik`\n",
    "- Increasing the `convex area` is likely to push the prediction towards `Ürgüp Sivrisi`\n",
    "- Decreasing the `compactness` is likely to push the prediction towards `Ürgüp Sivrisi`\n",
    "- Decreasing the `convex area` is likely to push the prediction towards `Çerçevelik`"
   ]
  },
  {
   "cell_type": "markdown",
   "id": "2fc52f9a-5fda-4827-ae51-2f8a5049bf6b",
   "metadata": {},
   "source": [
    "---"
   ]
  },
  {
   "cell_type": "markdown",
   "id": "3b91943e-176d-497b-a29c-88ccafe6a10f",
   "metadata": {},
   "source": [
    "---"
   ]
  },
  {
   "cell_type": "markdown",
   "id": "1ac275a8-5c8e-428f-bc21-34fbc0855ccc",
   "metadata": {},
   "source": [
    "#### Random Forest: Feature Importance in Decision Tree Model"
   ]
  },
  {
   "cell_type": "code",
   "execution_count": 24,
   "id": "ab5e578d-11d3-4b31-b0e4-fdc292f316e8",
   "metadata": {},
   "outputs": [
    {
     "data": {
      "text/html": [
       "<div>\n",
       "<style scoped>\n",
       "    .dataframe tbody tr th:only-of-type {\n",
       "        vertical-align: middle;\n",
       "    }\n",
       "\n",
       "    .dataframe tbody tr th {\n",
       "        vertical-align: top;\n",
       "    }\n",
       "\n",
       "    .dataframe thead th {\n",
       "        text-align: right;\n",
       "    }\n",
       "</style>\n",
       "<table border=\"1\" class=\"dataframe\">\n",
       "  <thead>\n",
       "    <tr style=\"text-align: right;\">\n",
       "      <th></th>\n",
       "      <th>Importance</th>\n",
       "    </tr>\n",
       "  </thead>\n",
       "  <tbody>\n",
       "    <tr>\n",
       "      <th>aspect_ration</th>\n",
       "      <td>0.204342</td>\n",
       "    </tr>\n",
       "    <tr>\n",
       "      <th>eccentricity</th>\n",
       "      <td>0.200888</td>\n",
       "    </tr>\n",
       "    <tr>\n",
       "      <th>compactness</th>\n",
       "      <td>0.175086</td>\n",
       "    </tr>\n",
       "    <tr>\n",
       "      <th>roundness</th>\n",
       "      <td>0.106204</td>\n",
       "    </tr>\n",
       "    <tr>\n",
       "      <th>major_axis_length</th>\n",
       "      <td>0.070736</td>\n",
       "    </tr>\n",
       "    <tr>\n",
       "      <th>solidity</th>\n",
       "      <td>0.053879</td>\n",
       "    </tr>\n",
       "    <tr>\n",
       "      <th>minor_axis_length</th>\n",
       "      <td>0.042710</td>\n",
       "    </tr>\n",
       "    <tr>\n",
       "      <th>extent</th>\n",
       "      <td>0.042271</td>\n",
       "    </tr>\n",
       "    <tr>\n",
       "      <th>perimeter</th>\n",
       "      <td>0.036539</td>\n",
       "    </tr>\n",
       "    <tr>\n",
       "      <th>equiv_diameter</th>\n",
       "      <td>0.033754</td>\n",
       "    </tr>\n",
       "  </tbody>\n",
       "</table>\n",
       "</div>"
      ],
      "text/plain": [
       "                   Importance\n",
       "aspect_ration        0.204342\n",
       "eccentricity         0.200888\n",
       "compactness          0.175086\n",
       "roundness            0.106204\n",
       "major_axis_length    0.070736\n",
       "solidity             0.053879\n",
       "minor_axis_length    0.042710\n",
       "extent               0.042271\n",
       "perimeter            0.036539\n",
       "equiv_diameter       0.033754"
      ]
     },
     "execution_count": 24,
     "metadata": {},
     "output_type": "execute_result"
    }
   ],
   "source": [
    "pipe_rf.fit(X_train, y_train)\n",
    "data = {\n",
    "    \"Importance\": pipe_rf.named_steps[\"randomforestclassifier\"].feature_importances_,\n",
    "}\n",
    "pd.DataFrame(data=data, index= numeric_columns).sort_values(\n",
    "    by=\"Importance\", ascending=False\n",
    ")[:10]\n"
   ]
  },
  {
   "cell_type": "code",
   "execution_count": 25,
   "id": "6d56782b-8225-4979-aa9d-32107cad7451",
   "metadata": {},
   "outputs": [
    {
     "data": {
      "text/html": [
       "\n",
       "    <style>\n",
       "    table.eli5-weights tr:hover {\n",
       "        filter: brightness(85%);\n",
       "    }\n",
       "</style>\n",
       "\n",
       "\n",
       "\n",
       "    \n",
       "\n",
       "    \n",
       "\n",
       "    \n",
       "\n",
       "    \n",
       "\n",
       "    \n",
       "\n",
       "    \n",
       "\n",
       "\n",
       "    \n",
       "\n",
       "    \n",
       "\n",
       "    \n",
       "\n",
       "    \n",
       "\n",
       "    \n",
       "\n",
       "    \n",
       "\n",
       "\n",
       "    \n",
       "\n",
       "    \n",
       "\n",
       "    \n",
       "\n",
       "    \n",
       "\n",
       "    \n",
       "        <table class=\"eli5-weights eli5-feature-importances\" style=\"border-collapse: collapse; border: none; margin-top: 0em; table-layout: auto;\">\n",
       "    <thead>\n",
       "    <tr style=\"border: none;\">\n",
       "        <th style=\"padding: 0 1em 0 0.5em; text-align: right; border: none;\">Weight</th>\n",
       "        <th style=\"padding: 0 0.5em 0 0.5em; text-align: left; border: none;\">Feature</th>\n",
       "    </tr>\n",
       "    </thead>\n",
       "    <tbody>\n",
       "    \n",
       "        <tr style=\"background-color: hsl(120, 100.00%, 80.00%); border: none;\">\n",
       "            <td style=\"padding: 0 1em 0 0.5em; text-align: right; border: none;\">\n",
       "                0.2043\n",
       "                \n",
       "                    &plusmn; 0.4834\n",
       "                \n",
       "            </td>\n",
       "            <td style=\"padding: 0 0.5em 0 0.5em; text-align: left; border: none;\">\n",
       "                aspect_ration\n",
       "            </td>\n",
       "        </tr>\n",
       "    \n",
       "        <tr style=\"background-color: hsl(120, 100.00%, 80.24%); border: none;\">\n",
       "            <td style=\"padding: 0 1em 0 0.5em; text-align: right; border: none;\">\n",
       "                0.2009\n",
       "                \n",
       "                    &plusmn; 0.4856\n",
       "                \n",
       "            </td>\n",
       "            <td style=\"padding: 0 0.5em 0 0.5em; text-align: left; border: none;\">\n",
       "                eccentricity\n",
       "            </td>\n",
       "        </tr>\n",
       "    \n",
       "        <tr style=\"background-color: hsl(120, 100.00%, 82.05%); border: none;\">\n",
       "            <td style=\"padding: 0 1em 0 0.5em; text-align: right; border: none;\">\n",
       "                0.1751\n",
       "                \n",
       "                    &plusmn; 0.4416\n",
       "                \n",
       "            </td>\n",
       "            <td style=\"padding: 0 0.5em 0 0.5em; text-align: left; border: none;\">\n",
       "                compactness\n",
       "            </td>\n",
       "        </tr>\n",
       "    \n",
       "        <tr style=\"background-color: hsl(120, 100.00%, 87.35%); border: none;\">\n",
       "            <td style=\"padding: 0 1em 0 0.5em; text-align: right; border: none;\">\n",
       "                0.1062\n",
       "                \n",
       "                    &plusmn; 0.3060\n",
       "                \n",
       "            </td>\n",
       "            <td style=\"padding: 0 0.5em 0 0.5em; text-align: left; border: none;\">\n",
       "                roundness\n",
       "            </td>\n",
       "        </tr>\n",
       "    \n",
       "        <tr style=\"background-color: hsl(120, 100.00%, 90.48%); border: none;\">\n",
       "            <td style=\"padding: 0 1em 0 0.5em; text-align: right; border: none;\">\n",
       "                0.0707\n",
       "                \n",
       "                    &plusmn; 0.1798\n",
       "                \n",
       "            </td>\n",
       "            <td style=\"padding: 0 0.5em 0 0.5em; text-align: left; border: none;\">\n",
       "                major_axis_length\n",
       "            </td>\n",
       "        </tr>\n",
       "    \n",
       "        <tr style=\"background-color: hsl(120, 100.00%, 92.13%); border: none;\">\n",
       "            <td style=\"padding: 0 1em 0 0.5em; text-align: right; border: none;\">\n",
       "                0.0539\n",
       "                \n",
       "                    &plusmn; 0.0288\n",
       "                \n",
       "            </td>\n",
       "            <td style=\"padding: 0 0.5em 0 0.5em; text-align: left; border: none;\">\n",
       "                solidity\n",
       "            </td>\n",
       "        </tr>\n",
       "    \n",
       "        <tr style=\"background-color: hsl(120, 100.00%, 93.31%); border: none;\">\n",
       "            <td style=\"padding: 0 1em 0 0.5em; text-align: right; border: none;\">\n",
       "                0.0427\n",
       "                \n",
       "                    &plusmn; 0.0697\n",
       "                \n",
       "            </td>\n",
       "            <td style=\"padding: 0 0.5em 0 0.5em; text-align: left; border: none;\">\n",
       "                minor_axis_length\n",
       "            </td>\n",
       "        </tr>\n",
       "    \n",
       "        <tr style=\"background-color: hsl(120, 100.00%, 93.36%); border: none;\">\n",
       "            <td style=\"padding: 0 1em 0 0.5em; text-align: right; border: none;\">\n",
       "                0.0423\n",
       "                \n",
       "                    &plusmn; 0.0398\n",
       "                \n",
       "            </td>\n",
       "            <td style=\"padding: 0 0.5em 0 0.5em; text-align: left; border: none;\">\n",
       "                extent\n",
       "            </td>\n",
       "        </tr>\n",
       "    \n",
       "        <tr style=\"background-color: hsl(120, 100.00%, 94.01%); border: none;\">\n",
       "            <td style=\"padding: 0 1em 0 0.5em; text-align: right; border: none;\">\n",
       "                0.0365\n",
       "                \n",
       "                    &plusmn; 0.0478\n",
       "                \n",
       "            </td>\n",
       "            <td style=\"padding: 0 0.5em 0 0.5em; text-align: left; border: none;\">\n",
       "                perimeter\n",
       "            </td>\n",
       "        </tr>\n",
       "    \n",
       "        <tr style=\"background-color: hsl(120, 100.00%, 94.33%); border: none;\">\n",
       "            <td style=\"padding: 0 1em 0 0.5em; text-align: right; border: none;\">\n",
       "                0.0338\n",
       "                \n",
       "                    &plusmn; 0.0230\n",
       "                \n",
       "            </td>\n",
       "            <td style=\"padding: 0 0.5em 0 0.5em; text-align: left; border: none;\">\n",
       "                equiv_diameter\n",
       "            </td>\n",
       "        </tr>\n",
       "    \n",
       "        <tr style=\"background-color: hsl(120, 100.00%, 94.35%); border: none;\">\n",
       "            <td style=\"padding: 0 1em 0 0.5em; text-align: right; border: none;\">\n",
       "                0.0336\n",
       "                \n",
       "                    &plusmn; 0.0284\n",
       "                \n",
       "            </td>\n",
       "            <td style=\"padding: 0 0.5em 0 0.5em; text-align: left; border: none;\">\n",
       "                convex_area\n",
       "            </td>\n",
       "        </tr>\n",
       "    \n",
       "    \n",
       "    </tbody>\n",
       "</table>\n",
       "    \n",
       "\n",
       "    \n",
       "\n",
       "\n",
       "    \n",
       "\n",
       "    \n",
       "\n",
       "    \n",
       "\n",
       "    \n",
       "\n",
       "    \n",
       "\n",
       "    \n",
       "\n",
       "\n",
       "\n"
      ],
      "text/plain": [
       "Explanation(estimator='RandomForestClassifier(random_state=2022)', description='\\nRandom forest feature importances; values are numbers 0 <= x <= 1;\\nall values sum to 1.\\n', error=None, method='feature importances', is_regression=False, targets=None, feature_importances=FeatureImportances(importances=[FeatureWeight(feature='aspect_ration', weight=0.2043418686252868, std=0.2417232282771676, value=None), FeatureWeight(feature='eccentricity', weight=0.200888109839902, std=0.24282211638955403, value=None), FeatureWeight(feature='compactness', weight=0.1750859395229475, std=0.22077556536357482, value=None), FeatureWeight(feature='roundness', weight=0.106204464027158, std=0.15300082510392124, value=None), FeatureWeight(feature='major_axis_length', weight=0.07073562778423796, std=0.0898912269881201, value=None), FeatureWeight(feature='solidity', weight=0.05387881301415111, std=0.014424365555085592, value=None), FeatureWeight(feature='minor_axis_length', weight=0.0427096096153333, std=0.03485822670320967, value=None), FeatureWeight(feature='extent', weight=0.04227053995144167, std=0.01988082221705677, value=None), FeatureWeight(feature='perimeter', weight=0.0365393313131061, std=0.023901880013799105, value=None), FeatureWeight(feature='equiv_diameter', weight=0.0337539123166644, std=0.011493243862500165, value=None), FeatureWeight(feature='convex_area', weight=0.033591783989771334, std=0.01419974737301272, value=None)], remaining=0), decision_tree=None, highlight_spaces=None, transition_features=None, image=None)"
      ]
     },
     "execution_count": 25,
     "metadata": {},
     "output_type": "execute_result"
    }
   ],
   "source": [
    "# feature importance\n",
    "\n",
    "eli5.explain_weights( pipe_rf.named_steps[\"randomforestclassifier\"], feature_names=numeric_columns.to_list())\n"
   ]
  },
  {
   "cell_type": "markdown",
   "id": "1839a3e7-5aa8-4895-be2a-b1295ac0f25f",
   "metadata": {},
   "source": [
    " - The most important feature in prediction is the aspect ratio. To see how it affect the predictions, we will use the same test example"
   ]
  },
  {
   "cell_type": "markdown",
   "id": "b4a5e68d-0742-455e-a1d6-7bbcdd1aa644",
   "metadata": {},
   "source": [
    "##### Decreasing Aspect Ration"
   ]
  },
  {
   "cell_type": "code",
   "execution_count": 26,
   "id": "199f00d3-a3f8-4cac-ac79-66f676db77d5",
   "metadata": {},
   "outputs": [
    {
     "name": "stdout",
     "output_type": "stream",
     "text": [
      "The prediction when aspect_ration is decreased is: Çerçevelik\n"
     ]
    },
    {
     "data": {
      "text/html": [
       "<div>\n",
       "<style scoped>\n",
       "    .dataframe tbody tr th:only-of-type {\n",
       "        vertical-align: middle;\n",
       "    }\n",
       "\n",
       "    .dataframe tbody tr th {\n",
       "        vertical-align: top;\n",
       "    }\n",
       "\n",
       "    .dataframe thead th {\n",
       "        text-align: right;\n",
       "    }\n",
       "</style>\n",
       "<table border=\"1\" class=\"dataframe\">\n",
       "  <thead>\n",
       "    <tr style=\"text-align: right;\">\n",
       "      <th></th>\n",
       "      <th>area</th>\n",
       "      <th>perimeter</th>\n",
       "      <th>major_axis_length</th>\n",
       "      <th>minor_axis_length</th>\n",
       "      <th>convex_area</th>\n",
       "      <th>equiv_diameter</th>\n",
       "      <th>eccentricity</th>\n",
       "      <th>solidity</th>\n",
       "      <th>extent</th>\n",
       "      <th>roundness</th>\n",
       "      <th>aspect_ration</th>\n",
       "      <th>compactness</th>\n",
       "    </tr>\n",
       "  </thead>\n",
       "  <tbody>\n",
       "    <tr>\n",
       "      <th>1882</th>\n",
       "      <td>96325</td>\n",
       "      <td>1305.855</td>\n",
       "      <td>551.395</td>\n",
       "      <td>224.9857</td>\n",
       "      <td>97155</td>\n",
       "      <td>350.2068</td>\n",
       "      <td>0.913</td>\n",
       "      <td>0.9915</td>\n",
       "      <td>0.5223</td>\n",
       "      <td>0.7098</td>\n",
       "      <td>1.2254</td>\n",
       "      <td>0.6351</td>\n",
       "    </tr>\n",
       "  </tbody>\n",
       "</table>\n",
       "</div>"
      ],
      "text/plain": [
       "       area  perimeter  major_axis_length  minor_axis_length  convex_area  \\\n",
       "1882  96325   1305.855            551.395           224.9857        97155   \n",
       "\n",
       "      equiv_diameter  eccentricity  solidity  extent  roundness  \\\n",
       "1882        350.2068         0.913    0.9915  0.5223     0.7098   \n",
       "\n",
       "      aspect_ration  compactness  \n",
       "1882         1.2254       0.6351  "
      ]
     },
     "execution_count": 26,
     "metadata": {},
     "output_type": "execute_result"
    }
   ],
   "source": [
    "\n",
    "example_rnd_dcr = X_test[255:256].copy()\n",
    "example_rnd_dcr['aspect_ration'] = example_rnd_dcr['aspect_ration'] / 2\n",
    "\n",
    "print(f'The prediction when aspect_ration is decreased is: {pipe_lr.predict(example_rnd_dcr)[0]}')\n",
    "\n",
    "example_rnd_dcr\n"
   ]
  },
  {
   "cell_type": "markdown",
   "id": "fb516604-a717-490a-a995-8eb5a38317b0",
   "metadata": {},
   "source": [
    "##### Increasing Aspect Ration"
   ]
  },
  {
   "cell_type": "code",
   "execution_count": 27,
   "id": "9a7c131b-5e2f-4769-8f92-e0b32c29cebe",
   "metadata": {},
   "outputs": [
    {
     "name": "stdout",
     "output_type": "stream",
     "text": [
      "The prediction when aspect_ration is increased is: Ürgüp Sivrisi\n"
     ]
    },
    {
     "data": {
      "text/html": [
       "<div>\n",
       "<style scoped>\n",
       "    .dataframe tbody tr th:only-of-type {\n",
       "        vertical-align: middle;\n",
       "    }\n",
       "\n",
       "    .dataframe tbody tr th {\n",
       "        vertical-align: top;\n",
       "    }\n",
       "\n",
       "    .dataframe thead th {\n",
       "        text-align: right;\n",
       "    }\n",
       "</style>\n",
       "<table border=\"1\" class=\"dataframe\">\n",
       "  <thead>\n",
       "    <tr style=\"text-align: right;\">\n",
       "      <th></th>\n",
       "      <th>area</th>\n",
       "      <th>perimeter</th>\n",
       "      <th>major_axis_length</th>\n",
       "      <th>minor_axis_length</th>\n",
       "      <th>convex_area</th>\n",
       "      <th>equiv_diameter</th>\n",
       "      <th>eccentricity</th>\n",
       "      <th>solidity</th>\n",
       "      <th>extent</th>\n",
       "      <th>roundness</th>\n",
       "      <th>aspect_ration</th>\n",
       "      <th>compactness</th>\n",
       "    </tr>\n",
       "  </thead>\n",
       "  <tbody>\n",
       "    <tr>\n",
       "      <th>1882</th>\n",
       "      <td>96325</td>\n",
       "      <td>1305.855</td>\n",
       "      <td>551.395</td>\n",
       "      <td>224.9857</td>\n",
       "      <td>97155</td>\n",
       "      <td>350.2068</td>\n",
       "      <td>0.913</td>\n",
       "      <td>0.9915</td>\n",
       "      <td>0.5223</td>\n",
       "      <td>0.7098</td>\n",
       "      <td>4.9016</td>\n",
       "      <td>0.6351</td>\n",
       "    </tr>\n",
       "  </tbody>\n",
       "</table>\n",
       "</div>"
      ],
      "text/plain": [
       "       area  perimeter  major_axis_length  minor_axis_length  convex_area  \\\n",
       "1882  96325   1305.855            551.395           224.9857        97155   \n",
       "\n",
       "      equiv_diameter  eccentricity  solidity  extent  roundness  \\\n",
       "1882        350.2068         0.913    0.9915  0.5223     0.7098   \n",
       "\n",
       "      aspect_ration  compactness  \n",
       "1882         4.9016       0.6351  "
      ]
     },
     "execution_count": 27,
     "metadata": {},
     "output_type": "execute_result"
    }
   ],
   "source": [
    "\n",
    "\n",
    "example_rnd_incr = X_test[255:256].copy()\n",
    "example_rnd_incr['aspect_ration'] = example_rnd_incr['aspect_ration'] * 2\n",
    "\n",
    "print(f'The prediction when aspect_ration is increased is: {pipe_lr.predict(example_rnd_incr)[0]}')\n",
    "example_rnd_incr\n"
   ]
  },
  {
   "cell_type": "markdown",
   "id": "af721229-e8c6-42a0-8e5e-5c969d412d67",
   "metadata": {},
   "source": [
    "##### Increasing Equiv diameter"
   ]
  },
  {
   "cell_type": "code",
   "execution_count": 28,
   "id": "16e29720-d8b4-412f-a676-5824b4e6b537",
   "metadata": {},
   "outputs": [
    {
     "name": "stdout",
     "output_type": "stream",
     "text": [
      "The prediction when equiv diameter is decreased is: Çerçevelik\n"
     ]
    },
    {
     "data": {
      "text/html": [
       "<div>\n",
       "<style scoped>\n",
       "    .dataframe tbody tr th:only-of-type {\n",
       "        vertical-align: middle;\n",
       "    }\n",
       "\n",
       "    .dataframe tbody tr th {\n",
       "        vertical-align: top;\n",
       "    }\n",
       "\n",
       "    .dataframe thead th {\n",
       "        text-align: right;\n",
       "    }\n",
       "</style>\n",
       "<table border=\"1\" class=\"dataframe\">\n",
       "  <thead>\n",
       "    <tr style=\"text-align: right;\">\n",
       "      <th></th>\n",
       "      <th>area</th>\n",
       "      <th>perimeter</th>\n",
       "      <th>major_axis_length</th>\n",
       "      <th>minor_axis_length</th>\n",
       "      <th>convex_area</th>\n",
       "      <th>equiv_diameter</th>\n",
       "      <th>eccentricity</th>\n",
       "      <th>solidity</th>\n",
       "      <th>extent</th>\n",
       "      <th>roundness</th>\n",
       "      <th>aspect_ration</th>\n",
       "      <th>compactness</th>\n",
       "    </tr>\n",
       "  </thead>\n",
       "  <tbody>\n",
       "    <tr>\n",
       "      <th>1882</th>\n",
       "      <td>96325</td>\n",
       "      <td>1305.855</td>\n",
       "      <td>551.395</td>\n",
       "      <td>224.9857</td>\n",
       "      <td>97155</td>\n",
       "      <td>700.4136</td>\n",
       "      <td>0.913</td>\n",
       "      <td>0.9915</td>\n",
       "      <td>0.5223</td>\n",
       "      <td>0.7098</td>\n",
       "      <td>2.4508</td>\n",
       "      <td>0.6351</td>\n",
       "    </tr>\n",
       "  </tbody>\n",
       "</table>\n",
       "</div>"
      ],
      "text/plain": [
       "       area  perimeter  major_axis_length  minor_axis_length  convex_area  \\\n",
       "1882  96325   1305.855            551.395           224.9857        97155   \n",
       "\n",
       "      equiv_diameter  eccentricity  solidity  extent  roundness  \\\n",
       "1882        700.4136         0.913    0.9915  0.5223     0.7098   \n",
       "\n",
       "      aspect_ration  compactness  \n",
       "1882         2.4508       0.6351  "
      ]
     },
     "execution_count": 28,
     "metadata": {},
     "output_type": "execute_result"
    }
   ],
   "source": [
    "\n",
    "example_rnd_dcr = X_test[255:256].copy()\n",
    "example_rnd_dcr['equiv_diameter'] = example_rnd_dcr['equiv_diameter'] * 2\n",
    "\n",
    "print(f'The prediction when equiv diameter is decreased is: {pipe_lr.predict(example_rnd_dcr)[0]}')\n",
    "\n",
    "example_rnd_dcr\n"
   ]
  },
  {
   "cell_type": "markdown",
   "id": "6433cd8b-ac2c-4773-9e05-f5284ec8f39c",
   "metadata": {},
   "source": [
    "##### Decreasing Equiv diameter"
   ]
  },
  {
   "cell_type": "code",
   "execution_count": 29,
   "id": "f0f2529b-72b5-4532-a62a-aba09765f1da",
   "metadata": {},
   "outputs": [
    {
     "name": "stdout",
     "output_type": "stream",
     "text": [
      "The prediction when equiv diameter is decreased is: Ürgüp Sivrisi\n"
     ]
    },
    {
     "data": {
      "text/html": [
       "<div>\n",
       "<style scoped>\n",
       "    .dataframe tbody tr th:only-of-type {\n",
       "        vertical-align: middle;\n",
       "    }\n",
       "\n",
       "    .dataframe tbody tr th {\n",
       "        vertical-align: top;\n",
       "    }\n",
       "\n",
       "    .dataframe thead th {\n",
       "        text-align: right;\n",
       "    }\n",
       "</style>\n",
       "<table border=\"1\" class=\"dataframe\">\n",
       "  <thead>\n",
       "    <tr style=\"text-align: right;\">\n",
       "      <th></th>\n",
       "      <th>area</th>\n",
       "      <th>perimeter</th>\n",
       "      <th>major_axis_length</th>\n",
       "      <th>minor_axis_length</th>\n",
       "      <th>convex_area</th>\n",
       "      <th>equiv_diameter</th>\n",
       "      <th>eccentricity</th>\n",
       "      <th>solidity</th>\n",
       "      <th>extent</th>\n",
       "      <th>roundness</th>\n",
       "      <th>aspect_ration</th>\n",
       "      <th>compactness</th>\n",
       "    </tr>\n",
       "  </thead>\n",
       "  <tbody>\n",
       "    <tr>\n",
       "      <th>1882</th>\n",
       "      <td>96325</td>\n",
       "      <td>1305.855</td>\n",
       "      <td>551.395</td>\n",
       "      <td>224.9857</td>\n",
       "      <td>97155</td>\n",
       "      <td>175.1034</td>\n",
       "      <td>0.913</td>\n",
       "      <td>0.9915</td>\n",
       "      <td>0.5223</td>\n",
       "      <td>0.7098</td>\n",
       "      <td>2.4508</td>\n",
       "      <td>0.6351</td>\n",
       "    </tr>\n",
       "  </tbody>\n",
       "</table>\n",
       "</div>"
      ],
      "text/plain": [
       "       area  perimeter  major_axis_length  minor_axis_length  convex_area  \\\n",
       "1882  96325   1305.855            551.395           224.9857        97155   \n",
       "\n",
       "      equiv_diameter  eccentricity  solidity  extent  roundness  \\\n",
       "1882        175.1034         0.913    0.9915  0.5223     0.7098   \n",
       "\n",
       "      aspect_ration  compactness  \n",
       "1882         2.4508       0.6351  "
      ]
     },
     "execution_count": 29,
     "metadata": {},
     "output_type": "execute_result"
    }
   ],
   "source": [
    "\n",
    "example_rnd_dcr = X_test[255:256].copy()\n",
    "example_rnd_dcr['equiv_diameter'] = example_rnd_dcr['equiv_diameter'] / 2\n",
    "\n",
    "print(f'The prediction when equiv diameter is decreased is: {pipe_lr.predict(example_rnd_dcr)[0]}')\n",
    "\n",
    "example_rnd_dcr\n"
   ]
  },
  {
   "cell_type": "markdown",
   "id": "85292d96-4858-4ae6-be0c-edc55ae07d07",
   "metadata": {},
   "source": [
    "The coefficients of the model is interpreted thus:\n",
    "\n",
    "- Increasing the `aspect_ration` is likely to push the prediction towards `Ürgüp Sivrisi` \n",
    "- Increasing the `equiv_diameter` is likely to push the prediction towards `Ürgüp Sivrisi`\n",
    "- Decreasing the `aspect_ration` is likely to push the prediction towards `Çerçevelik`\n",
    "- Decreasing the `equiv_diameter` is likely to push the prediction towards `Çerçevelik`\n"
   ]
  },
  {
   "cell_type": "markdown",
   "id": "7ebaf158-678b-4efa-b8da-9a26075ffb30",
   "metadata": {},
   "source": [
    "----"
   ]
  },
  {
   "cell_type": "markdown",
   "id": "8dd49b1e-259d-4594-a168-4ab33b811e24",
   "metadata": {},
   "source": [
    "---"
   ]
  },
  {
   "cell_type": "markdown",
   "id": "b3fd7067-b4ca-4c41-8be7-9adf9b29e2c9",
   "metadata": {},
   "source": [
    "### Light GBM: Feature Importance in Gradient Boosting Model"
   ]
  },
  {
   "cell_type": "code",
   "execution_count": 30,
   "id": "e6cc83ef-3abd-463d-97cc-54faeefac500",
   "metadata": {},
   "outputs": [],
   "source": [
    "pipe_lgbm.fit(X_train, y_train);"
   ]
  },
  {
   "cell_type": "markdown",
   "id": "1df67bce-cf85-4b94-8596-4f0f5036396b",
   "metadata": {},
   "source": [
    "#### Explaining predictions with shap"
   ]
  },
  {
   "cell_type": "code",
   "execution_count": 31,
   "id": "62c7aa22-03a7-4468-8113-4585463bc72f",
   "metadata": {},
   "outputs": [
    {
     "data": {
      "text/plain": [
       "(2000, 11)"
      ]
     },
     "execution_count": 31,
     "metadata": {},
     "output_type": "execute_result"
    }
   ],
   "source": [
    "#create train dataframes with transformed features.\n",
    "\n",
    "X_train_enc = pd.DataFrame(\n",
    "    data=preprocessor.transform(X_train),\n",
    "    columns=numeric_columns,\n",
    "    index=X_train.index,\n",
    ")\n",
    "X_train_enc.shape\n"
   ]
  },
  {
   "cell_type": "code",
   "execution_count": 32,
   "id": "25a96471-0b14-4d20-85de-fcc8dc532c3a",
   "metadata": {},
   "outputs": [
    {
     "data": {
      "text/plain": [
       "(500, 11)"
      ]
     },
     "execution_count": 32,
     "metadata": {},
     "output_type": "execute_result"
    }
   ],
   "source": [
    "#create test dataframes with transformed features.\n",
    "X_test_enc = pd.DataFrame(\n",
    "    data=preprocessor.transform(X_test),\n",
    "    columns=numeric_columns,\n",
    "    index=X_test.index,\n",
    ")\n",
    "X_test_enc.shape"
   ]
  },
  {
   "cell_type": "code",
   "execution_count": 33,
   "id": "3331b49f-51d1-4461-b18d-469210f5f480",
   "metadata": {},
   "outputs": [
    {
     "data": {
      "text/plain": [
       "(2000, 11)"
      ]
     },
     "execution_count": 33,
     "metadata": {},
     "output_type": "execute_result"
    }
   ],
   "source": [
    "#  SHAP values for train data.\n",
    "lgbm_explainer = shap.TreeExplainer(pipe_lgbm.named_steps[\"lgbmclassifier\"])\n",
    "train_lgbm_shap_values = lgbm_explainer.shap_values(X_train_enc)\n",
    "\n",
    "train_lgbm_shap_values[1].shape\n"
   ]
  },
  {
   "cell_type": "code",
   "execution_count": 34,
   "id": "655d335f-f460-4994-a7ef-b7dcdfa60d44",
   "metadata": {},
   "outputs": [
    {
     "data": {
      "text/plain": [
       "(500, 11)"
      ]
     },
     "execution_count": 34,
     "metadata": {},
     "output_type": "execute_result"
    }
   ],
   "source": [
    "# SHAP values for test data.\n",
    "test_lgbm_shap_values = lgbm_explainer.shap_values(X_test_enc)\n",
    "test_lgbm_shap_values[1].shape"
   ]
  },
  {
   "cell_type": "code",
   "execution_count": 35,
   "id": "c3f9f8fe-8ad4-4e1c-a90e-376f9bd5f1e4",
   "metadata": {},
   "outputs": [
    {
     "data": {
      "text/plain": [
       "0         Çerçevelik\n",
       "1      Ürgüp Sivrisi\n",
       "2         Çerçevelik\n",
       "3         Çerçevelik\n",
       "4      Ürgüp Sivrisi\n",
       "           ...      \n",
       "495    Ürgüp Sivrisi\n",
       "496    Ürgüp Sivrisi\n",
       "497    Ürgüp Sivrisi\n",
       "498    Ürgüp Sivrisi\n",
       "499       Çerçevelik\n",
       "Name: class, Length: 500, dtype: object"
      ]
     },
     "execution_count": 35,
     "metadata": {},
     "output_type": "execute_result"
    }
   ],
   "source": [
    "y_test_reset = y_test.reset_index(drop=True)\n",
    "y_test_reset"
   ]
  },
  {
   "cell_type": "code",
   "execution_count": 36,
   "id": "ec54d95e-5365-4d47-b903-ebfeb7e6dcbf",
   "metadata": {},
   "outputs": [],
   "source": [
    "# get samples for the two classes\n",
    "c_ind = y_test_reset[y_test_reset == \"Çerçevelik\"].index.tolist()\n",
    "u_ind = y_test_reset[y_test_reset == \"Ürgüp Sivrisi\"].index.tolist()\n",
    "\n",
    "c_index = c_ind[10]\n",
    "u_index = u_ind[10]"
   ]
  },
  {
   "cell_type": "markdown",
   "id": "21759859-22e6-4a55-8008-5283891908fe",
   "metadata": {},
   "source": [
    "#### Examples with `Çerçevelik`"
   ]
  },
  {
   "cell_type": "code",
   "execution_count": 37,
   "id": "193c8c35-8b90-42c5-9359-120b4f979fea",
   "metadata": {},
   "outputs": [
    {
     "data": {
      "text/plain": [
       "array(['Çerçevelik', 'Ürgüp Sivrisi'], dtype=object)"
      ]
     },
     "execution_count": 37,
     "metadata": {},
     "output_type": "execute_result"
    }
   ],
   "source": [
    "pipe_lgbm.named_steps[\"lgbmclassifier\"].classes_"
   ]
  },
  {
   "cell_type": "code",
   "execution_count": 38,
   "id": "91ce86e9-955f-4694-a671-6fd9d88a6e07",
   "metadata": {},
   "outputs": [
    {
     "data": {
      "text/plain": [
       "array([0.96647412, 0.03352588])"
      ]
     },
     "execution_count": 38,
     "metadata": {},
     "output_type": "execute_result"
    }
   ],
   "source": [
    "# predicted probability for class `Çerçevelik`\n",
    "pipe_lgbm.named_steps[\"lgbmclassifier\"].predict_proba(X_test_enc)[c_index]"
   ]
  },
  {
   "cell_type": "code",
   "execution_count": 39,
   "id": "1222e6b1-6b42-4a55-9630-b559667070da",
   "metadata": {},
   "outputs": [
    {
     "data": {
      "text/plain": [
       "-3.361336750718783"
      ]
     },
     "execution_count": 39,
     "metadata": {},
     "output_type": "execute_result"
    }
   ],
   "source": [
    "# raw score of the model for class `Çerçevelik`\n",
    "pipe_lgbm.named_steps[\"lgbmclassifier\"].predict(X_test_enc, raw_score=True)[\n",
    "    c_index\n",
    "]  "
   ]
  },
  {
   "cell_type": "code",
   "execution_count": 40,
   "id": "e7481e6d-f04d-449b-8957-d4102121dc82",
   "metadata": {},
   "outputs": [
    {
     "data": {
      "text/plain": [
       "0.49345559710892356"
      ]
     },
     "execution_count": 40,
     "metadata": {},
     "output_type": "execute_result"
    }
   ],
   "source": [
    "# mean prediction for class  Çerçevelik\n",
    "pipe_lgbm.named_steps[\"lgbmclassifier\"].predict(X_train_enc, raw_score=True).mean()"
   ]
  },
  {
   "cell_type": "code",
   "execution_count": 41,
   "id": "18734d1d-01a4-4036-8070-28c965ed60f4",
   "metadata": {},
   "outputs": [
    {
     "data": {
      "text/plain": [
       "0.4934555971089238"
      ]
     },
     "execution_count": 41,
     "metadata": {},
     "output_type": "execute_result"
    }
   ],
   "source": [
    "# on average this is the raw score for class `Ürgüp Sivrisi`\n",
    "lgbm_explainer.expected_value[1]  "
   ]
  },
  {
   "cell_type": "code",
   "execution_count": 42,
   "id": "04ec86d8-33fd-4727-b12e-fea95d57eb92",
   "metadata": {},
   "outputs": [
    {
     "data": {
      "text/plain": [
       "-0.4934555971089238"
      ]
     },
     "execution_count": 42,
     "metadata": {},
     "output_type": "execute_result"
    }
   ],
   "source": [
    "# on average this is the raw score for class `Çerçevelik`\n",
    "lgbm_explainer.expected_value[0]"
   ]
  },
  {
   "cell_type": "code",
   "execution_count": 43,
   "id": "e9320439-958a-4c23-9101-2b4b1f3b77b6",
   "metadata": {},
   "outputs": [
    {
     "data": {
      "image/png": "[encoded data removed]",
      "text/plain": [
       "<Figure size 1440x216 with 1 Axes>"
      ]
     },
     "metadata": {
      "needs_background": "light"
     },
     "output_type": "display_data"
    }
   ],
   "source": [
    "# visualization\n",
    "\n",
    "X_test_enc = round(X_test_enc, 3)  \n",
    "shap.force_plot(\n",
    "    lgbm_explainer.expected_value[1],\n",
    "    test_lgbm_shap_values[1][c_index, :],\n",
    "    X_test_enc.iloc[c_index, :],\n",
    "    matplotlib=True,\n",
    ")\n"
   ]
  },
  {
   "cell_type": "markdown",
   "id": "40409f80-384b-48d7-b5ad-2a657d873706",
   "metadata": {},
   "source": [
    "##### Interpretation when class is `Çerçevelik`\n",
    "- Solidity is pushing the prediction towards an higher raw score\n",
    "- While compactness, aspect_ration and roundness are pushing the prediction towards a lower raw score\n",
    "\n",
    "In addition, the base value is higher than the raw score"
   ]
  },
  {
   "cell_type": "markdown",
   "id": "99e74a81-4053-44a3-b492-11689f474125",
   "metadata": {},
   "source": [
    "#### Examples with ` Ürgüp Sivrisi`"
   ]
  },
  {
   "cell_type": "code",
   "execution_count": 44,
   "id": "9f7501f5-aad6-4a52-b0c2-80a6da1b2869",
   "metadata": {},
   "outputs": [
    {
     "data": {
      "text/plain": [
       "array([0.98239755, 0.01760245])"
      ]
     },
     "execution_count": 44,
     "metadata": {},
     "output_type": "execute_result"
    }
   ],
   "source": [
    "pipe_lgbm.named_steps[\"lgbmclassifier\"].predict_proba(X_test_enc)[u_index]"
   ]
  },
  {
   "cell_type": "code",
   "execution_count": 45,
   "id": "becd8d9c-19fc-4a35-a020-0bfd7a2f9077",
   "metadata": {},
   "outputs": [
    {
     "data": {
      "text/plain": [
       "-4.021957968693857"
      ]
     },
     "execution_count": 45,
     "metadata": {},
     "output_type": "execute_result"
    }
   ],
   "source": [
    "# raw score of the model\n",
    "pipe_lgbm.named_steps[\"lgbmclassifier\"].predict(X_test_enc, raw_score=True)[\n",
    "    u_index\n",
    "]  \n"
   ]
  },
  {
   "cell_type": "code",
   "execution_count": 46,
   "id": "a92babc3-52d1-4da9-9f61-5fc9f523f41c",
   "metadata": {},
   "outputs": [
    {
     "data": {
      "image/png": "[encoded data removed]",
      "text/plain": [
       "<Figure size 1440x216 with 1 Axes>"
      ]
     },
     "metadata": {
      "needs_background": "light"
     },
     "output_type": "display_data"
    }
   ],
   "source": [
    "\n",
    "X_test_enc = round(X_test_enc, 3)  # for better visualization\n",
    "#\n",
    "shap.force_plot(\n",
    "    lgbm_explainer.expected_value[1],\n",
    "    test_lgbm_shap_values[1][u_index, :],\n",
    "    X_test_enc.iloc[u_index, :],\n",
    "    matplotlib=True,\n",
    ")\n"
   ]
  },
  {
   "cell_type": "markdown",
   "id": "d52424a3-5eab-4ebc-b7ac-f1a12e7a16bb",
   "metadata": {},
   "source": [
    "##### Interpretation when class is `Ürgüp Sivrisi`\n",
    "- Roundness is pushing the prediction towards an higher raw score\n",
    "- While compactness, aspect_ration, solidity and eccentricity are pushing the prediction towards a lower raw score\n",
    "\n",
    "In addition, the base value is higher than the raw score"
   ]
  },
  {
   "cell_type": "code",
   "execution_count": null,
   "id": "38752c8b-eb24-4ffd-b0ca-608b21ccaee8",
   "metadata": {},
   "outputs": [],
   "source": []
  }
 ],
 "metadata": {
  "kernelspec": {
   "display_name": "Python [conda env:env573]",
   "language": "python",
   "name": "conda-env-env573-py"
  },
  "language_info": {
   "codemirror_mode": {
    "name": "ipython",
    "version": 3
   },
   "file_extension": ".py",
   "mimetype": "text/x-python",
   "name": "python",
   "nbconvert_exporter": "python",
   "pygments_lexer": "ipython3",
   "version": "3.9.7"
  }
 },
 "nbformat": 4,
 "nbformat_minor": 5
}
