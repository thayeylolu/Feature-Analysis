{
 "cells": [
  {
   "cell_type": "markdown",
   "id": "fda1f2a5-ebca-4fea-b948-7619c2e48233",
   "metadata": {},
   "source": [
    "### Feature Analysis: Interpretability of ML models\n",
    "March 2022"
   ]
  },
  {
   "cell_type": "markdown",
   "id": "9758c586-37ba-4660-9958-8dfcc26d963e",
   "metadata": {},
   "source": [
    "**Import Libraries**"
   ]
  },
  {
   "cell_type": "code",
   "execution_count": 1,
   "id": "6fd76142-169a-4fb4-bfc2-2a449f2d87be",
   "metadata": {},
   "outputs": [],
   "source": [
    "import matplotlib.pyplot as plt\n",
    "import numpy as np\n",
    "import pandas as pd\n",
    "import string\n",
    "import sys\n",
    "import os\n",
    "\n",
    "from utils import *\n",
    "#from plotting_functions import *\n",
    "from sklearn import datasets\n",
    "from sklearn.compose import ColumnTransformer, make_column_transformer\n",
    "from sklearn.dummy import DummyClassifier\n",
    "from sklearn.ensemble import RandomForestClassifier\n",
    "from sklearn.impute import SimpleImputer\n",
    "from sklearn.pipeline import Pipeline, make_pipeline\n",
    "from sklearn.linear_model import LogisticRegression, Ridge, RidgeCV\n",
    "\n",
    "from sklearn.model_selection import (\n",
    "    GridSearchCV,\n",
    "    RandomizedSearchCV,\n",
    "    ShuffleSplit,\n",
    "    cross_val_score,\n",
    "    cross_validate,\n",
    "    train_test_split,\n",
    ")\n",
    "\n",
    "from sklearn.preprocessing import (\n",
    "    OneHotEncoder,\n",
    "    OrdinalEncoder,\n",
    "    PolynomialFeatures,\n",
    "    StandardScaler,\n",
    ")\n",
    "\n",
    "%matplotlib inline\n"
   ]
  },
  {
   "cell_type": "markdown",
   "id": "727b18ce-f81d-4c5f-80e1-a46114a7ffab",
   "metadata": {},
   "source": [
    "**Import and inspect Data**"
   ]
  },
  {
   "cell_type": "code",
   "execution_count": 21,
   "id": "89d84ab8-6b47-4e9b-9908-c73da30c036c",
   "metadata": {},
   "outputs": [],
   "source": [
    "path = os.getcwd()\n",
    "data = pd.read_excel(os.path.join(path, \"data/pumpkin.xlsx\"), sheet_name = \"Pumpkin_Seeds_Dataset\")"
   ]
  },
  {
   "cell_type": "code",
   "execution_count": 22,
   "id": "3ae49f7b-0cd9-4e81-bedf-b5de8dd7517a",
   "metadata": {},
   "outputs": [
    {
     "data": {
      "text/html": [
       "<div>\n",
       "<style scoped>\n",
       "    .dataframe tbody tr th:only-of-type {\n",
       "        vertical-align: middle;\n",
       "    }\n",
       "\n",
       "    .dataframe tbody tr th {\n",
       "        vertical-align: top;\n",
       "    }\n",
       "\n",
       "    .dataframe thead th {\n",
       "        text-align: right;\n",
       "    }\n",
       "</style>\n",
       "<table border=\"1\" class=\"dataframe\">\n",
       "  <thead>\n",
       "    <tr style=\"text-align: right;\">\n",
       "      <th></th>\n",
       "      <th>Area</th>\n",
       "      <th>Perimeter</th>\n",
       "      <th>Major_Axis_Length</th>\n",
       "      <th>Minor_Axis_Length</th>\n",
       "      <th>Convex_Area</th>\n",
       "      <th>Equiv_Diameter</th>\n",
       "      <th>Eccentricity</th>\n",
       "      <th>Solidity</th>\n",
       "      <th>Extent</th>\n",
       "      <th>Roundness</th>\n",
       "      <th>Aspect_Ration</th>\n",
       "      <th>Compactness</th>\n",
       "      <th>Class</th>\n",
       "    </tr>\n",
       "  </thead>\n",
       "  <tbody>\n",
       "    <tr>\n",
       "      <th>0</th>\n",
       "      <td>56276</td>\n",
       "      <td>888.242</td>\n",
       "      <td>326.1485</td>\n",
       "      <td>220.2388</td>\n",
       "      <td>56831</td>\n",
       "      <td>267.6805</td>\n",
       "      <td>0.7376</td>\n",
       "      <td>0.9902</td>\n",
       "      <td>0.7453</td>\n",
       "      <td>0.8963</td>\n",
       "      <td>1.4809</td>\n",
       "      <td>0.8207</td>\n",
       "      <td>Çerçevelik</td>\n",
       "    </tr>\n",
       "    <tr>\n",
       "      <th>1</th>\n",
       "      <td>76631</td>\n",
       "      <td>1068.146</td>\n",
       "      <td>417.1932</td>\n",
       "      <td>234.2289</td>\n",
       "      <td>77280</td>\n",
       "      <td>312.3614</td>\n",
       "      <td>0.8275</td>\n",
       "      <td>0.9916</td>\n",
       "      <td>0.7151</td>\n",
       "      <td>0.8440</td>\n",
       "      <td>1.7811</td>\n",
       "      <td>0.7487</td>\n",
       "      <td>Çerçevelik</td>\n",
       "    </tr>\n",
       "    <tr>\n",
       "      <th>2</th>\n",
       "      <td>71623</td>\n",
       "      <td>1082.987</td>\n",
       "      <td>435.8328</td>\n",
       "      <td>211.0457</td>\n",
       "      <td>72663</td>\n",
       "      <td>301.9822</td>\n",
       "      <td>0.8749</td>\n",
       "      <td>0.9857</td>\n",
       "      <td>0.7400</td>\n",
       "      <td>0.7674</td>\n",
       "      <td>2.0651</td>\n",
       "      <td>0.6929</td>\n",
       "      <td>Çerçevelik</td>\n",
       "    </tr>\n",
       "    <tr>\n",
       "      <th>3</th>\n",
       "      <td>66458</td>\n",
       "      <td>992.051</td>\n",
       "      <td>381.5638</td>\n",
       "      <td>222.5322</td>\n",
       "      <td>67118</td>\n",
       "      <td>290.8899</td>\n",
       "      <td>0.8123</td>\n",
       "      <td>0.9902</td>\n",
       "      <td>0.7396</td>\n",
       "      <td>0.8486</td>\n",
       "      <td>1.7146</td>\n",
       "      <td>0.7624</td>\n",
       "      <td>Çerçevelik</td>\n",
       "    </tr>\n",
       "    <tr>\n",
       "      <th>4</th>\n",
       "      <td>66107</td>\n",
       "      <td>998.146</td>\n",
       "      <td>383.8883</td>\n",
       "      <td>220.4545</td>\n",
       "      <td>67117</td>\n",
       "      <td>290.1207</td>\n",
       "      <td>0.8187</td>\n",
       "      <td>0.9850</td>\n",
       "      <td>0.6752</td>\n",
       "      <td>0.8338</td>\n",
       "      <td>1.7413</td>\n",
       "      <td>0.7557</td>\n",
       "      <td>Çerçevelik</td>\n",
       "    </tr>\n",
       "  </tbody>\n",
       "</table>\n",
       "</div>"
      ],
      "text/plain": [
       "    Area  Perimeter  Major_Axis_Length  Minor_Axis_Length  Convex_Area  \\\n",
       "0  56276    888.242           326.1485           220.2388        56831   \n",
       "1  76631   1068.146           417.1932           234.2289        77280   \n",
       "2  71623   1082.987           435.8328           211.0457        72663   \n",
       "3  66458    992.051           381.5638           222.5322        67118   \n",
       "4  66107    998.146           383.8883           220.4545        67117   \n",
       "\n",
       "   Equiv_Diameter  Eccentricity  Solidity  Extent  Roundness  Aspect_Ration  \\\n",
       "0        267.6805        0.7376    0.9902  0.7453     0.8963         1.4809   \n",
       "1        312.3614        0.8275    0.9916  0.7151     0.8440         1.7811   \n",
       "2        301.9822        0.8749    0.9857  0.7400     0.7674         2.0651   \n",
       "3        290.8899        0.8123    0.9902  0.7396     0.8486         1.7146   \n",
       "4        290.1207        0.8187    0.9850  0.6752     0.8338         1.7413   \n",
       "\n",
       "   Compactness       Class  \n",
       "0       0.8207  Çerçevelik  \n",
       "1       0.7487  Çerçevelik  \n",
       "2       0.6929  Çerçevelik  \n",
       "3       0.7624  Çerçevelik  \n",
       "4       0.7557  Çerçevelik  "
      ]
     },
     "execution_count": 22,
     "metadata": {},
     "output_type": "execute_result"
    }
   ],
   "source": [
    "data.head()"
   ]
  },
  {
   "cell_type": "code",
   "execution_count": 23,
   "id": "a54225e2-1131-431a-b942-291d924df473",
   "metadata": {},
   "outputs": [
    {
     "name": "stdout",
     "output_type": "stream",
     "text": [
      "<class 'pandas.core.frame.DataFrame'>\n",
      "RangeIndex: 2500 entries, 0 to 2499\n",
      "Data columns (total 13 columns):\n",
      " #   Column             Non-Null Count  Dtype  \n",
      "---  ------             --------------  -----  \n",
      " 0   Area               2500 non-null   int64  \n",
      " 1   Perimeter          2500 non-null   float64\n",
      " 2   Major_Axis_Length  2500 non-null   float64\n",
      " 3   Minor_Axis_Length  2500 non-null   float64\n",
      " 4   Convex_Area        2500 non-null   int64  \n",
      " 5   Equiv_Diameter     2500 non-null   float64\n",
      " 6   Eccentricity       2500 non-null   float64\n",
      " 7   Solidity           2500 non-null   float64\n",
      " 8   Extent             2500 non-null   float64\n",
      " 9   Roundness          2500 non-null   float64\n",
      " 10  Aspect_Ration      2500 non-null   float64\n",
      " 11  Compactness        2500 non-null   float64\n",
      " 12  Class              2500 non-null   object \n",
      "dtypes: float64(10), int64(2), object(1)\n",
      "memory usage: 254.0+ KB\n"
     ]
    }
   ],
   "source": [
    "data.info()"
   ]
  },
  {
   "cell_type": "code",
   "execution_count": 37,
   "id": "61cf27af-d5cf-4e13-b6bc-9c05029b1b12",
   "metadata": {},
   "outputs": [],
   "source": [
    "data = data.rename(columns=str.lower)"
   ]
  },
  {
   "cell_type": "code",
   "execution_count": 38,
   "id": "5798e42a-a898-43bf-a81a-748f3fbb6fbf",
   "metadata": {},
   "outputs": [
    {
     "data": {
      "text/plain": [
       "75637    3\n",
       "97268    3\n",
       "68063    3\n",
       "96928    2\n",
       "76461    2\n",
       "        ..\n",
       "76581    1\n",
       "70110    1\n",
       "66208    1\n",
       "80529    1\n",
       "80011    1\n",
       "Name: area, Length: 2424, dtype: int64"
      ]
     },
     "execution_count": 38,
     "metadata": {},
     "output_type": "execute_result"
    }
   ],
   "source": [
    "data.area.value_counts()"
   ]
  },
  {
   "cell_type": "markdown",
   "id": "06d795a7-a69f-4d6b-86bd-353e344066ed",
   "metadata": {},
   "source": [
    "**Define column types for column transformation**"
   ]
  },
  {
   "cell_type": "code",
   "execution_count": 42,
   "id": "bbe4a31e-35cf-45c2-b014-382d23feaf16",
   "metadata": {},
   "outputs": [],
   "source": [
    "numeric_columns = data.columns[1:-1]\n",
    "target_column = \"class\"\n",
    "drop_column = [\"area\"]"
   ]
  },
  {
   "cell_type": "code",
   "execution_count": 43,
   "id": "69c96480-a505-495f-9796-2d4bff31b441",
   "metadata": {},
   "outputs": [],
   "source": [
    "numeric_transformer = make_pipeline(StandardScaler())\n",
    "\n",
    "preprocessor = make_column_transformer(\n",
    "    (\"drop\", drop_column),\n",
    "    (numeric_transformer, numeric_columns)\n",
    ")"
   ]
  },
  {
   "cell_type": "markdown",
   "id": "0e9d7c1e-5681-49bf-9914-412435a57d95",
   "metadata": {},
   "source": [
    "**Split Data**"
   ]
  },
  {
   "cell_type": "code",
   "execution_count": 44,
   "id": "5adc0b84-b23a-42fe-a2b5-d50d1a4fb214",
   "metadata": {},
   "outputs": [],
   "source": [
    "train_df, test_df = train_test_split(data, test_size=0.2, random_state=2022)\n",
    "\n",
    "X_train = train_df.drop(columns=[target_column])\n",
    "y_train = train_df[target_column]\n",
    "\n",
    "X_test = test_df.drop(columns=[target_column])\n",
    "y_test = test_df[target_column]"
   ]
  },
  {
   "cell_type": "code",
   "execution_count": null,
   "id": "7d8a7899-bb23-46d6-8945-a40f1cb01c45",
   "metadata": {},
   "outputs": [],
   "source": []
  }
 ],
 "metadata": {
  "kernelspec": {
   "display_name": "Python [conda env:env573]",
   "language": "python",
   "name": "conda-env-env573-py"
  },
  "language_info": {
   "codemirror_mode": {
    "name": "ipython",
    "version": 3
   },
   "file_extension": ".py",
   "mimetype": "text/x-python",
   "name": "python",
   "nbconvert_exporter": "python",
   "pygments_lexer": "ipython3",
   "version": "3.9.7"
  }
 },
 "nbformat": 4,
 "nbformat_minor": 5
}
