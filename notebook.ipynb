{
 "cells": [
  {
   "cell_type": "markdown",
   "id": "fda1f2a5-ebca-4fea-b948-7619c2e48233",
   "metadata": {},
   "source": [
    "### Feature Analysis: Interpretability of ML models\n",
    "March 2022"
   ]
  },
  {
   "cell_type": "markdown",
   "id": "9758c586-37ba-4660-9958-8dfcc26d963e",
   "metadata": {},
   "source": [
    "**Import Libraries**"
   ]
  },
  {
   "cell_type": "code",
   "execution_count": null,
   "id": "6fd76142-169a-4fb4-bfc2-2a449f2d87be",
   "metadata": {},
   "outputs": [],
   "source": [
    "import eli5\n",
    "import matplotlib.pyplot as plt\n",
    "import numpy as np\n",
    "import pandas as pd\n",
    "import string\n",
    "import sys\n",
    "import os\n",
    "import warnings\n",
    "\n",
    "\n",
    "from lightgbm.sklearn import LGBMClassifier\n",
    "#from plotting_functions import *\n",
    "from sklearn import datasets\n",
    "from sklearn.compose import ColumnTransformer, make_column_transformer\n",
    "from sklearn.dummy import DummyClassifier\n",
    "from sklearn.ensemble import RandomForestClassifier\n",
    "from sklearn.impute import SimpleImputer\n",
    "from sklearn.pipeline import Pipeline, make_pipeline\n",
    "from sklearn.linear_model import LogisticRegression\n",
    "\n",
    "from sklearn.model_selection import (\n",
    "\n",
    "    cross_val_score,\n",
    "    cross_validate,\n",
    "    train_test_split,\n",
    ")\n",
    "\n",
    "from sklearn.preprocessing import (\n",
    "    StandardScaler,\n",
    ")\n",
    "from utils import *\n",
    "from xgboost import XGBClassifier\n",
    "\n",
    "%matplotlib inline\n",
    "warnings.filterwarnings('ignore')\n"
   ]
  },
  {
   "cell_type": "code",
   "execution_count": null,
   "id": "2e2fe8c4-2f76-42c2-9b2e-83474bdfc0ae",
   "metadata": {},
   "outputs": [],
   "source": [
    "def mean_std_cross_val_scores(model, X_train, y_train, **kwargs):\n",
    "    \"\"\"\n",
    "    Returns mean and std of cross validation\n",
    "\n",
    "    Parameters\n",
    "    ----------\n",
    "    model :\n",
    "        scikit-learn model\n",
    "    X_train : numpy array or pandas DataFrame\n",
    "        X in the training data\n",
    "    y_train :\n",
    "        y in the training data\n",
    "\n",
    "    Returns\n",
    "    ----------\n",
    "        pandas Series with mean scores from cross_validation\n",
    "    \"\"\"\n",
    "\n",
    "    scores = cross_validate(model, X_train, y_train, **kwargs)\n",
    "\n",
    "    mean_scores = pd.DataFrame(scores).mean()\n",
    "    std_scores = pd.DataFrame(scores).std()\n",
    "    out_col = []\n",
    "\n",
    "    for i in range(len(mean_scores)):\n",
    "        out_col.append((f\"%0.3f (+/- %0.3f)\" % (mean_scores[i], std_scores[i])))\n",
    "\n",
    "    return pd.Series(data=out_col, index=mean_scores.index)"
   ]
  },
  {
   "cell_type": "markdown",
   "id": "727b18ce-f81d-4c5f-80e1-a46114a7ffab",
   "metadata": {},
   "source": [
    "**Import and inspect Data**"
   ]
  },
  {
   "cell_type": "code",
   "execution_count": null,
   "id": "647a66cc-55b6-40b1-98a8-aef95ab50294",
   "metadata": {},
   "outputs": [],
   "source": [
    "path = os.getcwd()\n",
    "path"
   ]
  },
  {
   "cell_type": "code",
   "execution_count": null,
   "id": "89d84ab8-6b47-4e9b-9908-c73da30c036c",
   "metadata": {},
   "outputs": [],
   "source": [
    "path = os.getcwd()\n",
    "data = pd.read_excel(os.path.join(path, \"Feature Analysis/data/pumpkin.xlsx\"), sheet_name = \"Pumpkin_Seeds_Dataset\")"
   ]
  },
  {
   "cell_type": "code",
   "execution_count": null,
   "id": "3ae49f7b-0cd9-4e81-bedf-b5de8dd7517a",
   "metadata": {},
   "outputs": [],
   "source": [
    "data.head()"
   ]
  },
  {
   "cell_type": "code",
   "execution_count": null,
   "id": "a54225e2-1131-431a-b942-291d924df473",
   "metadata": {},
   "outputs": [],
   "source": [
    "data.info()"
   ]
  },
  {
   "cell_type": "code",
   "execution_count": null,
   "id": "61cf27af-d5cf-4e13-b6bc-9c05029b1b12",
   "metadata": {},
   "outputs": [],
   "source": [
    "data = data.rename(columns=str.lower)"
   ]
  },
  {
   "cell_type": "code",
   "execution_count": null,
   "id": "5798e42a-a898-43bf-a81a-748f3fbb6fbf",
   "metadata": {},
   "outputs": [],
   "source": [
    "data.area.value_counts()"
   ]
  },
  {
   "cell_type": "markdown",
   "id": "06d795a7-a69f-4d6b-86bd-353e344066ed",
   "metadata": {},
   "source": [
    "**Define column types for column transformation**"
   ]
  },
  {
   "cell_type": "code",
   "execution_count": null,
   "id": "bbe4a31e-35cf-45c2-b014-382d23feaf16",
   "metadata": {},
   "outputs": [],
   "source": [
    "numeric_columns = data.columns[1:-1]\n",
    "target_column = \"class\"\n",
    "drop_column = [\"area\"]"
   ]
  },
  {
   "cell_type": "code",
   "execution_count": null,
   "id": "69c96480-a505-495f-9796-2d4bff31b441",
   "metadata": {},
   "outputs": [],
   "source": [
    "numeric_transformer = make_pipeline(StandardScaler())\n",
    "\n",
    "preprocessor = make_column_transformer(\n",
    "    (\"drop\", drop_column),\n",
    "    (numeric_transformer, numeric_columns)\n",
    ")"
   ]
  },
  {
   "cell_type": "markdown",
   "id": "0e9d7c1e-5681-49bf-9914-412435a57d95",
   "metadata": {},
   "source": [
    "**Split Data**"
   ]
  },
  {
   "cell_type": "code",
   "execution_count": null,
   "id": "5adc0b84-b23a-42fe-a2b5-d50d1a4fb214",
   "metadata": {},
   "outputs": [],
   "source": [
    "train, test = train_test_split(data, test_size=0.2, random_state=2022)\n",
    "\n",
    "X_train = train.drop(columns=[target_column])\n",
    "y_train = train[target_column]\n",
    "\n",
    "X_test = test.drop(columns=[target_column])\n",
    "y_test = test[target_column]"
   ]
  },
  {
   "cell_type": "markdown",
   "id": "83a93a2b-94dc-47e5-b8b3-6a5754a67161",
   "metadata": {},
   "source": [
    "**Check for class Balance**"
   ]
  },
  {
   "cell_type": "code",
   "execution_count": null,
   "id": "be21b875-7271-4a88-8713-3f26aea8f3db",
   "metadata": {},
   "outputs": [],
   "source": [
    "train[\"class\"].value_counts().plot(kind = \"bar\",\n",
    "                                   title = \"Count plot: CLass Balance\",\n",
    "                                   xlabel = \"Seed Class\",\n",
    "                                   ylabel = \"Count\"\n",
    "                                  );"
   ]
  },
  {
   "cell_type": "code",
   "execution_count": null,
   "id": "ba482625-0c02-415c-9471-1dbabe76e9f7",
   "metadata": {},
   "outputs": [],
   "source": [
    "# not a perfect balance, but we can work with this"
   ]
  },
  {
   "cell_type": "markdown",
   "id": "89ab2bde-9c0c-4313-93e6-2c7a123b3458",
   "metadata": {},
   "source": [
    "**Initialize Models**"
   ]
  },
  {
   "cell_type": "code",
   "execution_count": null,
   "id": "a8675755-fe31-4e94-a602-40800ec92e2b",
   "metadata": {},
   "outputs": [],
   "source": [
    "results = {}\n",
    "scoring_metric = \"accuracy\"\n",
    "\n",
    "pipe_lr = make_pipeline(\n",
    "    preprocessor, LogisticRegression(max_iter=2000, random_state=2022)\n",
    ")\n",
    "pipe_rf = make_pipeline(preprocessor, RandomForestClassifier(random_state=2022))\n",
    "pipe_xgb = make_pipeline(\n",
    "    preprocessor, XGBClassifier(random_state=2022)\n",
    ")\n",
    "pipe_lgbm = make_pipeline(preprocessor, LGBMClassifier(random_state=2022))\n",
    "classifiers = {\n",
    "    \"logistic regression\": pipe_lr,\n",
    "    \"random forest\": pipe_rf,\n",
    "    \"XGBoost\": pipe_xgb,\n",
    "    \"LightGBM\": pipe_lgbm,\n",
    "}"
   ]
  },
  {
   "cell_type": "code",
   "execution_count": null,
   "id": "723b6ac5-f2a0-40d1-bec5-4f1b059dca5d",
   "metadata": {},
   "outputs": [],
   "source": [
    "for (name, model) in classifiers.items():\n",
    "    results[name] = mean_std_cross_val_scores(\n",
    "        model, X_train, y_train, return_train_score=True, scoring=scoring_metric\n",
    "    )"
   ]
  },
  {
   "cell_type": "code",
   "execution_count": null,
   "id": "e2462190-ba26-4c25-b3d0-46338023e23d",
   "metadata": {},
   "outputs": [],
   "source": [
    "pd.DataFrame(results)"
   ]
  },
  {
   "cell_type": "markdown",
   "id": "f2e87d4f-d1d5-4a75-adbe-fe209ac810dc",
   "metadata": {},
   "source": [
    "**Score Interpretation**"
   ]
  },
  {
   "cell_type": "markdown",
   "id": "b8247d33-5bbd-49d5-9206-4ceee43c2341",
   "metadata": {},
   "source": [
    "- Random Forest is the best model\n",
    "- Logistic regression gives a better score than the gradient boosting models.\n",
    "- XGBoost and LightGBM are gives good scores without hyper parameters."
   ]
  },
  {
   "cell_type": "markdown",
   "id": "b1322a59-7ee6-45ba-accf-036d517a6613",
   "metadata": {},
   "source": [
    "#### Logistic Regression : Feature Importance In Linear Model"
   ]
  },
  {
   "cell_type": "code",
   "execution_count": null,
   "id": "ba0839e0-dd7b-49b8-8c60-15c24d3f8886",
   "metadata": {},
   "outputs": [],
   "source": [
    "pipe_lr.fit(X_train, y_train)\n",
    "\n",
    "lr_data = {\n",
    "    \"coefficient\": pipe_lr.named_steps[\"logisticregression\"].coef_.flatten().tolist(),\n",
    "    \"magnitude\": np.absolute(\n",
    "        pipe_lr.named_steps[\"logisticregression\"].coef_.flatten().tolist()\n",
    "    ),\n",
    "}\n",
    "coef_lr = pd.DataFrame(lr_data, index= numeric_columns).sort_values(\n",
    "    \"coefficient\", ascending=False\n",
    ")"
   ]
  },
  {
   "cell_type": "code",
   "execution_count": null,
   "id": "dce1f9fa-e0c6-45cc-96fc-a35c9d8fccbf",
   "metadata": {},
   "outputs": [],
   "source": [
    "coef_lr"
   ]
  },
  {
   "cell_type": "code",
   "execution_count": null,
   "id": "132061d2-fbbb-4dbb-a963-9e5b022688a5",
   "metadata": {},
   "outputs": [],
   "source": [
    "pipe_lr.classes_ "
   ]
  },
  {
   "cell_type": "markdown",
   "id": "d3ffaa0e-ca60-4631-a8c7-9acb60f784dd",
   "metadata": {},
   "source": [
    "### Interpretation of Coefficients of Logistics Model\n",
    "NOTE : The default class set by the logistic regression model is : \n",
    "- `Çerçevelik` is the class with index 0 or the positive class (based on the magnitude of the coefficient) and\n",
    "- `Ürgüp Sivrisi` the class with index 1 or negative class  (based on the magnitude of the coefficient)\n",
    "\n"
   ]
  },
  {
   "cell_type": "markdown",
   "id": "d2b499eb-19f8-4131-80de-a5d84bc288f2",
   "metadata": {},
   "source": [
    "### Increasing Compactness "
   ]
  },
  {
   "cell_type": "code",
   "execution_count": null,
   "id": "9f672dee-8699-417d-aeef-6fc576678e8e",
   "metadata": {},
   "outputs": [],
   "source": [
    "example_1a = X_test[255:256].copy()\n",
    "example_1a['compactness'] = example_1a['compactness'] * 2\n",
    "\n",
    "print(f' The prediction when compactness is increased is: {pipe_lr.predict(example_1a)[0]}')\n",
    "example_1a"
   ]
  },
  {
   "cell_type": "markdown",
   "id": "4fee8e2b-5981-4675-b478-7bf32f78d206",
   "metadata": {},
   "source": [
    "### Decreasing Compactness "
   ]
  },
  {
   "cell_type": "code",
   "execution_count": null,
   "id": "60d4d2c2-d693-40f7-9017-74855d620980",
   "metadata": {},
   "outputs": [],
   "source": [
    "example_1b = X_test[255:256].copy()\n",
    "example_1b['compactness'] = example_1b['compactness'] / 2\n",
    "\n",
    "\n",
    "print(f' The prediction when compactness is decreased is: {pipe_lr.predict(example_1b)[0]}')\n",
    "example_1b"
   ]
  },
  {
   "cell_type": "markdown",
   "id": "e3937203-6f38-42d2-bebd-58e68806fe71",
   "metadata": {},
   "source": [
    "### Increasing Convex Area"
   ]
  },
  {
   "cell_type": "code",
   "execution_count": null,
   "id": "7e4b6ed3-6dd4-46db-ae19-00870a05e29e",
   "metadata": {},
   "outputs": [],
   "source": [
    "example_2a = X_test[255:256].copy()\n",
    "example_2a['convex_area'] = example_2a['convex_area'] * 2\n",
    "\n",
    "print(f'The prediction when convex area is increased is: {pipe_lr.predict(example_2a)[0]}')\n",
    "example_2a"
   ]
  },
  {
   "cell_type": "markdown",
   "id": "9bbf9b97-17ee-4e59-aa08-7a3853730425",
   "metadata": {},
   "source": [
    "### Decreasing Convex Area"
   ]
  },
  {
   "cell_type": "code",
   "execution_count": null,
   "id": "724892fe-4175-4094-839b-93dfef77132c",
   "metadata": {},
   "outputs": [],
   "source": [
    "example_2b = X_test[255:256].copy()\n",
    "example_2b['convex_area'] = example_2b['convex_area'] / 2\n",
    "\n",
    "print(f' The prediction when convex area is decreased is: {pipe_lr.predict(example_2b)[0]}')\n",
    "example_2b"
   ]
  },
  {
   "cell_type": "markdown",
   "id": "8e8d60e4-73bf-40e7-bbc1-fc2b50c3435c",
   "metadata": {},
   "source": [
    "The coefficients of the model is interpreted thus: \n",
    "\n",
    "- Increasing the `compactness` is likely to push the prediction towards `Çerçevelik`\n",
    "- Increasing the `convex area` is likely to push the prediction towards `Ürgüp Sivrisi`\n",
    "- Decreasing the `compactness` is likely to push the prediction towards `Ürgüp Sivrisi`\n",
    "- Decreasing the `convex area` is likely to push the prediction towards `Çerçevelik`"
   ]
  },
  {
   "cell_type": "markdown",
   "id": "1ac275a8-5c8e-428f-bc21-34fbc0855ccc",
   "metadata": {},
   "source": [
    "### Random Forest: Feature Importance in Decision Tree Model"
   ]
  },
  {
   "cell_type": "code",
   "execution_count": null,
   "id": "ab5e578d-11d3-4b31-b0e4-fdc292f316e8",
   "metadata": {},
   "outputs": [],
   "source": [
    "pipe_rf.fit(X_train, y_train)\n",
    "data = {\n",
    "    \"Importance\": pipe_rf.named_steps[\"randomforestclassifier\"].feature_importances_,\n",
    "}\n",
    "pd.DataFrame(data=data, index= numeric_columns).sort_values(\n",
    "    by=\"Importance\", ascending=False\n",
    ")[:10]\n"
   ]
  },
  {
   "cell_type": "code",
   "execution_count": null,
   "id": "6d56782b-8225-4979-aa9d-32107cad7451",
   "metadata": {},
   "outputs": [],
   "source": [
    "# feature importance\n",
    "\n",
    "eli5.explain_weights( pipe_rf.named_steps[\"randomforestclassifier\"], feature_names=numeric_columns.to_list())\n"
   ]
  },
  {
   "cell_type": "markdown",
   "id": "1839a3e7-5aa8-4895-be2a-b1295ac0f25f",
   "metadata": {},
   "source": [
    " - The most important feature in prediction is the aspect ratio. To see how it affect the predictions, we will use the same test example"
   ]
  },
  {
   "cell_type": "markdown",
   "id": "b4a5e68d-0742-455e-a1d6-7bbcdd1aa644",
   "metadata": {},
   "source": [
    "### Decreasing Aspect Ratio"
   ]
  },
  {
   "cell_type": "code",
   "execution_count": null,
   "id": "199f00d3-a3f8-4cac-ac79-66f676db77d5",
   "metadata": {},
   "outputs": [],
   "source": [
    "\n",
    "example_rnd_dcr = X_test[255:256].copy()\n",
    "example_rnd_dcr[''] = example_rnd_dcr['aspect_ration'] / 2\n",
    "\n",
    "print(f'The prediction when aspect_ration is decreased is: {pipe_lr.predict(example_rnd_dcr)[0]}')\n",
    "\n",
    "example_rnd_dcr\n"
   ]
  },
  {
   "cell_type": "code",
   "execution_count": null,
   "id": "9a7c131b-5e2f-4769-8f92-e0b32c29cebe",
   "metadata": {},
   "outputs": [],
   "source": [
    "\n",
    "\n",
    "example_rnd_incr = X_test[255:256].copy()\n",
    "example_rnd_incr['aspect_ration'] = example_rnd_incr['aspect_ration'] * 2\n",
    "\n",
    "print(f'The prediction when aspect_ration is increased is: {pipe_lr.predict(example_rnd_incr)[0]}')\n",
    "example_rnd_incr\n"
   ]
  },
  {
   "cell_type": "markdown",
   "id": "85292d96-4858-4ae6-be0c-edc55ae07d07",
   "metadata": {},
   "source": [
    "\n",
    "From the prediciton examples above, we can see that increasing or decreasing `aspect_ratio` did not influence the prediction class"
   ]
  },
  {
   "cell_type": "code",
   "execution_count": null,
   "id": "e9320439-958a-4c23-9101-2b4b1f3b77b6",
   "metadata": {},
   "outputs": [],
   "source": []
  }
 ],
 "metadata": {
  "kernelspec": {
   "display_name": "Python [conda env:env573]",
   "language": "python",
   "name": "conda-env-env573-py"
  },
  "language_info": {
   "codemirror_mode": {
    "name": "ipython",
    "version": 3
   },
   "file_extension": ".py",
   "mimetype": "text/x-python",
   "name": "python",
   "nbconvert_exporter": "python",
   "pygments_lexer": "ipython3",
   "version": "3.9.7"
  }
 },
 "nbformat": 4,
 "nbformat_minor": 5
}
